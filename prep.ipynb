{
 "cells": [
  {
   "cell_type": "code",
   "execution_count": 222,
   "metadata": {},
   "outputs": [],
   "source": [
    "import pandas as pd\n",
    "from pathlib import Path\n",
    "import sqlalchemy as sa\n",
    "from dotenv import load_dotenv\n",
    "import os\n",
    "import psutil\n",
    "import regex as re\n",
    "import numpy as np\n",
    "from tqdm import tqdm\n",
    "import datetime\n",
    "import pickle\n",
    "load_dotenv()\n",
    "\n",
    "# set options for pandas and numpy formatting (no errors should occur if these are ommitted)\n",
    "pd.set_option('display.float_format', lambda x: '%.2f' % x)\n",
    "pd.options.mode.chained_assignment = None  # default='warn'\n",
    "np.set_printoptions(formatter={'float':\"{:6.5g}\".format})\n",
    "\n",
    "engine = sa.create_engine(\"mysql+pymysql://{user}:{pw}@{host}/{db}\"\n",
    "\t\t\t.format(host=os.getenv('host'), db=os.getenv('db'), user=os.getenv('uname'), pw=os.getenv('password')))"
   ]
  },
  {
   "cell_type": "code",
   "execution_count": 223,
   "metadata": {},
   "outputs": [],
   "source": [
    "class Loan:\n",
    "    ObservationNmb: int\n",
    "    maturity_dt: datetime.date\n",
    "    origination_dt: datetime.date\n",
    "    lender_status: int\n",
    "    all_pmts: np.ndarray\n",
    "    \n",
    "    def __init__(self, nmb, m_dt, o_dt, l_st,pmts):\n",
    "        self.ObservationNmb = nmb\n",
    "        self.maturity_dt = m_dt\n",
    "        self.origination_dt = o_dt\n",
    "        self.all_pmts = pmts\n",
    "        self.lender_status = l_st\n",
    "        \n",
    "    def find_payoff_date(self):\n",
    "        pass\n",
    " \n"
   ]
  },
  {
   "attachments": {},
   "cell_type": "markdown",
   "metadata": {},
   "source": [
    "## Building loans dictionary and pickle files"
   ]
  },
  {
   "cell_type": "code",
   "execution_count": null,
   "metadata": {},
   "outputs": [],
   "source": [
    "def get_ids()-> list:\n",
    "    with engine.connect() as con:\n",
    "            con.execute('SET GLOBAL innodb_buffer_pool_size=2147483648;')\n",
    "            # Get ObservationNmb's for all non-revolver loans\n",
    "            query = \"\"\" SELECT elipsmisc7afoia.ObservationNmb, repymnttbl7afoia.MaturityDt, elipsmisc7afoia.LoanFundedDt, loantbl7afoia.LenderStatusCd FROM elipsmisc7afoia\n",
    "                    JOIN repymnttbl7afoia\n",
    "                    ON repymnttbl7afoia.ObservationNmb = elipsmisc7afoia.ObservationNmb\n",
    "                    JOIN loantbl7afoia\n",
    "                    ON loantbl7afoia.ObservationNmb = elipsmisc7afoia.ObservationNmb\n",
    "                    WHERE RevolvingLineofCreditCd = 'N' AND YEAR(LoanFundedDt) >= 2000 ;\"\"\"\n",
    "                    \n",
    "            print(\"aggregating loan ids...\\n\")\n",
    "            rows = con.execute(query)\n",
    "            return [list(ele) for ele in rows.fetchall()]\n",
    "\n",
    "# def format_ids(ids: list)-> list:\n",
    "#     with engine.connect() as con:    \n",
    "#         #format ids into a list of id strings (currently its a list of RowProxies)\n",
    "#         print(\"formatting ids into querries...\\n\")\n",
    "#         pattern = r\"(\\(\\')(.+)\\'\"\n",
    "#         ids = [str(x) for x in ids]\n",
    "#         return [re.search(pattern, x).group(2) for x in ids]\n",
    "\n",
    "ids = get_ids()\n",
    "\n",
    "\n",
    "loans = {}\n",
    "\n",
    "print(\"looping...\\n\")\n",
    "with engine.connect() as con:    \n",
    "    for id in tqdm(ids):\n",
    "        con.execute('SET GLOBAL innodb_buffer_pool_size=2147483648;')\n",
    "        query = f\"\"\"SELECT EffectiveDt, TransacionCd, GeneralLedgerCd, TransactionAmt, TransactionBalanceAmt FROM master_fin WHERE ObservationNmb = \\\"{id[0]}\\\" \"\"\"\n",
    "        result = con.execute(query)\n",
    "        rows = np.array([list(ele) for ele in result])\n",
    "        loans[id[0]] = Loan(id[0], id[1], id[2], id[3], rows)\n",
    "        \n",
    "        # DataStructure of Loan.pmt_history: \n",
    "        #   [\n",
    "        #   [EffectiveDt, GeneralLedgerCd, TransactionAmt, TransactionBalanceAmt ],\n",
    "        #   [EffectiveDt, GeneralLedgerCd, TransactionAmt, TransactionBalanceAmt],\n",
    "        #   [EffectiveDt, GeneralLedgerCd, TransactionAmt, TransactionBalanceAmt], ...\n",
    "        #   ]\n",
    "        \n",
    "\n",
    "with open('loans_new.pickle', 'wb') as f:\n",
    "    pickle.dump(loans, f)\n",
    "            \n",
    "        "
   ]
  },
  {
   "attachments": {},
   "cell_type": "markdown",
   "metadata": {},
   "source": [
    "## Building cohort lists and cohort pickle files"
   ]
  },
  {
   "cell_type": "code",
   "execution_count": 370,
   "metadata": {},
   "outputs": [],
   "source": [
    "def build_cohort(loan_dict, year):\n",
    "    cohort = []\n",
    "    for key in loan_dict:\n",
    "        if loan_dict[key].origination_dt.year == year:\n",
    "            cohort.append(loan_dict[key])\n",
    "\n",
    "    return cohort\n",
    "\n",
    "def do_principal_pmts(cohrt_ls: list):\n",
    "    \"\"\"WHENEVER YOU TEST A CHANGE --- CHANGE cohrt_ls to cohrt_ls[0:2] and see how it looks\"\"\"\n",
    "    master_principal = []\n",
    "    print('parsing all payment strings...')\n",
    "    for x in (cohrt_ls):\n",
    "        hist = x.all_pmts\n",
    "        hist = np.insert(hist, 0, x.maturity_dt, axis=1)\n",
    "        hist = np.insert(hist, 0, x.origination_dt, axis=1)      \n",
    "        hist = np.insert(hist, 0, x.ObservationNmb, axis=1)\n",
    "        # hist_apprv_inc = [ (hist[:, 1] == 151)&(hist[:,2] == '6002') ]\n",
    "        hist_1510 = hist[ hist[:, 5]== '1510', :]\n",
    "        hist_6031 = hist[ hist[:, 5]== '6031', :]\n",
    "        principal_pmts = np.append(hist_1510, hist_6031, axis=0)\n",
    "        order = principal_pmts[:, 3].argsort()\n",
    "        principal_pmts = principal_pmts[order]\n",
    "        master_principal.append(principal_pmts)\n",
    "    print('returning master principal pmt structure')\n",
    "    return master_principal\n",
    "\n",
    "\n",
    "def build_df_list(prepayment_arr, cols):\n",
    "    df_dict = {}\n",
    "    for d in prepayment_arr:\n",
    "        df_x = pd.DataFrame(data=d, columns= cols).drop_duplicates().reset_index().drop(columns='index')\n",
    "        if df_x.empty == True:\n",
    "            continue\n",
    "        else:\n",
    "            obs=df_x.ObservationNmb.values[0]\n",
    "            df_dict[obs]= df_x\n",
    "            \n",
    "    return df_dict\n",
    "\n",
    "\n",
    "def do_principal_pmts_2(cohrt_ls: list):\n",
    "    \"\"\"WHENEVER YOU TEST A CHANGE --- CHANGE cohrt_ls to cohrt_ls[0:2] and see how it looks\"\"\"\n",
    "    master_principal = []\n",
    "    print('parsing all payment strings...')\n",
    "    for x in (cohrt_ls):\n",
    "        hist = x.all_pmts\n",
    "        hist = np.insert(hist, 0, x.maturity_dt, axis=1)\n",
    "        hist = np.insert(hist, 0, x.origination_dt, axis=1)      \n",
    "        hist = np.insert(hist, 0, x.ObservationNmb, axis=1)\n",
    "        hist_apprv_inc = hist[ (hist[:, 4] == 151)&(hist[:,4]== '6002') ]\n",
    "        hist_1510 = hist[ hist[:, 5]== '1510', :]\n",
    "        hist_6031 = hist[ hist[:, 5]== '6031', :]\n",
    "        if len(hist_apprv_inc) >0:\n",
    "            print('found increase to approval')\n",
    "            principal_pmts = np.vstack((hist_1510, hist_6031, hist_apprv_inc))\n",
    "        else: \n",
    "            principal_pmts = principal_pmts = np.append(hist_1510, hist_6031, axis=0)\n",
    "                \n",
    "        order = principal_pmts[:, 3].argsort()\n",
    "        principal_pmts = principal_pmts[order]\n",
    "\n",
    "        master_principal.append(principal_pmts)\n",
    "    print('returning master principal pmt structure')\n",
    "    return master_principal\n",
    "\n"
   ]
  },
  {
   "attachments": {},
   "cell_type": "markdown",
   "metadata": {},
   "source": [
    "### Make cohort_map [yr]--> list of prepayment arrays"
   ]
  },
  {
   "cell_type": "code",
   "execution_count": 225,
   "metadata": {},
   "outputs": [],
   "source": [
    "# with open('pickle_files/loans_new.pickle', 'rb') as in_file:\n",
    "#     loans = pickle.load(in_file)"
   ]
  },
  {
   "cell_type": "code",
   "execution_count": 342,
   "metadata": {},
   "outputs": [
    {
     "name": "stderr",
     "output_type": "stream",
     "text": [
      "  0%|          | 0/1 [00:00<?, ?it/s]"
     ]
    },
    {
     "name": "stdout",
     "output_type": "stream",
     "text": [
      "collecting principal payments for vintage: 2000\n",
      "parsing all payment strings...\n"
     ]
    },
    {
     "name": "stderr",
     "output_type": "stream",
     "text": [
      "100%|██████████| 1/1 [06:14<00:00, 374.63s/it]"
     ]
    },
    {
     "name": "stdout",
     "output_type": "stream",
     "text": [
      "returning master principal pmt structure\n"
     ]
    },
    {
     "name": "stderr",
     "output_type": "stream",
     "text": [
      "\n"
     ]
    }
   ],
   "source": [
    "to_do_list = list(range(2000, 2001, 1))\n",
    "cohort_map = {}\n",
    "for yr in tqdm(to_do_list):\n",
    "    l = build_cohort(loans, yr)\n",
    "    print(f\"collecting principal payments for vintage: {yr}\")\n",
    "    cohort_map[str(yr)] = do_principal_pmts_2(l)"
   ]
  },
  {
   "attachments": {},
   "cell_type": "markdown",
   "metadata": {},
   "source": [
    "### Make list of dfs out of list of prepayment arrays"
   ]
  },
  {
   "cell_type": "code",
   "execution_count": 371,
   "metadata": {},
   "outputs": [
    {
     "name": "stderr",
     "output_type": "stream",
     "text": [
      "  0%|          | 0/1 [00:00<?, ?it/s]"
     ]
    },
    {
     "name": "stdout",
     "output_type": "stream",
     "text": [
      "converting vintage 2000 to dataframes...\n"
     ]
    },
    {
     "name": "stderr",
     "output_type": "stream",
     "text": [
      "100%|██████████| 1/1 [00:31<00:00, 31.57s/it]\n"
     ]
    }
   ],
   "source": [
    "columns = ['ObservationNmb', 'Origination_dt', 'MaturityDt', 'EffectiveDt', 'Transactioncd' ,'GeneralLedgerCd', 'TransactionAmt', 'TransactionBalanceAmt']\n",
    "for key in tqdm(cohort_map.keys()):\n",
    "    print(f\"converting vintage {key} to dataframes...\")\n",
    "    cohort_map[key] = build_df_list(cohort_map[key], columns)\n",
    "\n"
   ]
  },
  {
   "cell_type": "code",
   "execution_count": 466,
   "metadata": {},
   "outputs": [],
   "source": [
    "def set_top_bot(test: pd.DataFrame)-> pd.DataFrame:\n",
    "    \"\"\"Re-window a dataframe to the last occurring max TransactionBalanceAmt \n",
    "    and the first occurring min TransactionBalanceAmt\"\"\"\n",
    "    ix_top = test[test.TransactionBalanceAmt.values == test.TransactionBalanceAmt.values.max()].index\n",
    "    ix_bot = test[test.TransactionBalanceAmt.values == test.TransactionBalanceAmt.values.min()].index\n",
    "    return test.iloc[ix_top[-1]:ix_bot[0]+1]"
   ]
  },
  {
   "cell_type": "code",
   "execution_count": 573,
   "metadata": {},
   "outputs": [],
   "source": [
    "def get_yrs_till_mat(l_dict:dict, obs:str)->float:\n",
    "    try:\n",
    "        x = pd.Timestamp(l_dict[obs].maturity_dt)\n",
    "        y =  pd.Timestamp(l_dict[obs].origination_dt)\n",
    "    except:\n",
    "        return 'Unknown'\n",
    "    return round((x-y)/np.timedelta64(1, 'Y'),0)\n",
    "\n",
    "def count_increasing_balances(chrt:dict, l_dict: dict, o_thresh: int)-> dict:\n",
    "    \"\"\"Go through all the keys in a cohort map, and return the number of loans\n",
    "    with two or more relative maximums after trimming the top and bottom of the payment histories\"\"\"\n",
    "    to_user = {}\n",
    "    error_count = 0\n",
    "    to_do_list = cohort_map.keys()\n",
    "    for yr in to_do_list:\n",
    "        over_threshold = 0\n",
    "        loan_count = 0\n",
    "        to_user[yr] = {}\n",
    "        _ids = {}\n",
    "        for i in cohort_map[yr]:\n",
    "            try:\n",
    "                test = set_top_bot(cohort_map['2000'][i])\n",
    "                my_arr = test['TransactionBalanceAmt'].values\n",
    "                maxs = (np.diff(np.sign(np.diff(my_arr))) < 0).nonzero()[0] + 1\n",
    "                if len(maxs) >= o_thresh:\n",
    "                    over_threshold +=1\n",
    "                    _ids[i] = get_yrs_till_mat(l_dict,i)\n",
    "                loan_count += 1\n",
    "            except IndexError:\n",
    "                error_count +=1\n",
    "        to_user[yr]['loan_count'] = loan_count\n",
    "        to_user[yr][f'{o_thresh}+max'] = over_threshold\n",
    "        to_user[yr]['error_count'] = error_count\n",
    "        to_user[yr]['ids'] = _ids\n",
    "    return to_user\n"
   ]
  },
  {
   "cell_type": "code",
   "execution_count": 699,
   "metadata": {},
   "outputs": [
    {
     "data": {
      "text/plain": [
       "<AxesSubplot:title={'center':'Increasing Balances: Grouped by Loan Count'}>"
      ]
     },
     "execution_count": 699,
     "metadata": {},
     "output_type": "execute_result"
    },
    {
     "data": {
      "image/png": "[encoded data removed]",
      "text/plain": [
       "<Figure size 864x720 with 1 Axes>"
      ]
     },
     "metadata": {
      "needs_background": "light"
     },
     "output_type": "display_data"
    }
   ],
   "source": [
    "# y_refine = count_increasing_balances(cohort_map, loans, 1)\n",
    "\n",
    "# print(y_refine)\n",
    "# print(id_list)\n",
    "my_dict = {'loan count': 7992, '0 spikes': 3471, '1 spike': 2207,'2 spikes': 1108, '3 spikes': 584, '4 or more': 622}\n",
    "y_ref = pd.DataFrame.from_dict(my_dict, orient='index')\n",
    "\n",
    "y_ref.plot(kind='bar', figsize=(12,10), title='Increasing Balances: Grouped by Loan Count', rot=90, legend=False)"
   ]
  },
  {
   "cell_type": "code",
   "execution_count": 588,
   "metadata": {},
   "outputs": [],
   "source": [
    "t = pd.DataFrame.from_dict(y_refine['2000']['ids'], orient='index')\n",
    "t.columns = ['Yrs']\n",
    "t = t.reset_index()\n",
    "t = t.rename(columns={'index':'obs_nmb'})"
   ]
  },
  {
   "cell_type": "code",
   "execution_count": 606,
   "metadata": {},
   "outputs": [
    {
     "data": {
      "text/plain": [
       "<AxesSubplot:title={'center':'Years till Maturity for 2000 Loans with 1 or More Balance Spikes, labeled \"Non-Revolving\"\\nYear 2000'}, xlabel='Years till Maturity', ylabel='Loan Count'>"
      ]
     },
     "execution_count": 606,
     "metadata": {},
     "output_type": "execute_result"
    },
    {
     "data": {
      "image/png": "[encoded data removed]",
      "text/plain": [
       "<Figure size 864x720 with 1 Axes>"
      ]
     },
     "metadata": {
      "needs_background": "light"
     },
     "output_type": "display_data"
    }
   ],
   "source": [
    "t.groupby('Yrs').count().sort_index().plot(kind='bar', figsize=(12,10), title='Years till Maturity for 2000 Loans with 1 or More Balance Spikes, labeled \"Non-Revolving\"\\nYear 2000',\n",
    "                                          ylabel='Loan Count', xlabel='Years till Maturity' ,legend=False)"
   ]
  },
  {
   "cell_type": "code",
   "execution_count": 607,
   "metadata": {},
   "outputs": [
    {
     "data": {
      "text/html": [
       "<div>\n",
       "<style scoped>\n",
       "    .dataframe tbody tr th:only-of-type {\n",
       "        vertical-align: middle;\n",
       "    }\n",
       "\n",
       "    .dataframe tbody tr th {\n",
       "        vertical-align: top;\n",
       "    }\n",
       "\n",
       "    .dataframe thead th {\n",
       "        text-align: right;\n",
       "    }\n",
       "</style>\n",
       "<table border=\"1\" class=\"dataframe\">\n",
       "  <thead>\n",
       "    <tr style=\"text-align: right;\">\n",
       "      <th></th>\n",
       "      <th>obs_nmb</th>\n",
       "      <th>Yrs</th>\n",
       "    </tr>\n",
       "  </thead>\n",
       "  <tbody>\n",
       "    <tr>\n",
       "      <th>0</th>\n",
       "      <td>1469636</td>\n",
       "      <td>5.00</td>\n",
       "    </tr>\n",
       "    <tr>\n",
       "      <th>1</th>\n",
       "      <td>1469642</td>\n",
       "      <td>7.00</td>\n",
       "    </tr>\n",
       "    <tr>\n",
       "      <th>2</th>\n",
       "      <td>1469643</td>\n",
       "      <td>5.00</td>\n",
       "    </tr>\n",
       "    <tr>\n",
       "      <th>4</th>\n",
       "      <td>1469649</td>\n",
       "      <td>7.00</td>\n",
       "    </tr>\n",
       "    <tr>\n",
       "      <th>8</th>\n",
       "      <td>1469669</td>\n",
       "      <td>5.00</td>\n",
       "    </tr>\n",
       "    <tr>\n",
       "      <th>...</th>\n",
       "      <td>...</td>\n",
       "      <td>...</td>\n",
       "    </tr>\n",
       "    <tr>\n",
       "      <th>4508</th>\n",
       "      <td>2016478</td>\n",
       "      <td>10.00</td>\n",
       "    </tr>\n",
       "    <tr>\n",
       "      <th>4509</th>\n",
       "      <td>2016497</td>\n",
       "      <td>7.00</td>\n",
       "    </tr>\n",
       "    <tr>\n",
       "      <th>4510</th>\n",
       "      <td>2016519</td>\n",
       "      <td>10.00</td>\n",
       "    </tr>\n",
       "    <tr>\n",
       "      <th>4517</th>\n",
       "      <td>2016577</td>\n",
       "      <td>6.00</td>\n",
       "    </tr>\n",
       "    <tr>\n",
       "      <th>4519</th>\n",
       "      <td>2016606</td>\n",
       "      <td>9.00</td>\n",
       "    </tr>\n",
       "  </tbody>\n",
       "</table>\n",
       "<p>2564 rows × 2 columns</p>\n",
       "</div>"
      ],
      "text/plain": [
       "      obs_nmb   Yrs\n",
       "0     1469636  5.00\n",
       "1     1469642  7.00\n",
       "2     1469643  5.00\n",
       "4     1469649  7.00\n",
       "8     1469669  5.00\n",
       "...       ...   ...\n",
       "4508  2016478 10.00\n",
       "4509  2016497  7.00\n",
       "4510  2016519 10.00\n",
       "4517  2016577  6.00\n",
       "4519  2016606  9.00\n",
       "\n",
       "[2564 rows x 2 columns]"
      ]
     },
     "execution_count": 607,
     "metadata": {},
     "output_type": "execute_result"
    }
   ],
   "source": [
    "t[t.Yrs<=10]"
   ]
  },
  {
   "cell_type": "code",
   "execution_count": 669,
   "metadata": {},
   "outputs": [],
   "source": [
    "testing = pd.read_csv('csvs\\years_till_maturityREVOLVERS_2000.csv')"
   ]
  },
  {
   "cell_type": "code",
   "execution_count": 670,
   "metadata": {},
   "outputs": [],
   "source": [
    "testing = testing.groupby('Years Till Maturity').count()[['ObservationNmb']]"
   ]
  },
  {
   "cell_type": "code",
   "execution_count": null,
   "metadata": {},
   "outputs": [],
   "source": [
    "testing.plot(kind='bar', figsize=(12,10), title='Years till Maturity for Revolvers\\nYear 2000',\n",
    "                                          ylabel='Loan Count', xlabel='Years till Maturity' ,legend=False)"
   ]
  },
  {
   "cell_type": "code",
   "execution_count": null,
   "metadata": {},
   "outputs": [],
   "source": [
    "t.loc[t.Yrs<=10]"
   ]
  },
  {
   "cell_type": "code",
   "execution_count": null,
   "metadata": {},
   "outputs": [],
   "source": []
  },
  {
   "cell_type": "code",
   "execution_count": 691,
   "metadata": {},
   "outputs": [
    {
     "name": "stdout",
     "output_type": "stream",
     "text": [
      "GP: 2007445\n",
      "local maximum:[27]\n",
      "\n",
      "local minimum:[26]\n"
     ]
    },
    {
     "data": {
      "image/png": "[encoded data removed]",
      "text/plain": [
       "<Figure size 864x360 with 1 Axes>"
      ]
     },
     "metadata": {
      "needs_background": "light"
     },
     "output_type": "display_data"
    }
   ],
   "source": [
    "import random\n",
    "import matplotlib.pyplot as plt\n",
    "i = random.choice(list(cohort_map['2000'].keys()))\n",
    "print(f\"GP: {'2007445'}\")\n",
    "def explore_sample_peakfinding(input_index:int):\n",
    "    try:\n",
    "        sample = set_top_bot(cohort_map['2000']['2007445'])\n",
    "        my_arr = sample['TransactionBalanceAmt'].values\n",
    "        x = np.linspace(0,len(my_arr),my_arr.shape[0])\n",
    "                # local min & max\n",
    "        b = (np.diff(np.sign(np.diff(my_arr))) > 0).nonzero()[0] + 1         # local min\n",
    "        c = (np.diff(np.sign(np.diff(my_arr))) < 0).nonzero()[0] + 1         # local max\n",
    "        # +1 due to the fact that diff reduces the original index number\n",
    "        plt.figure(figsize=(12,5))\n",
    "        plt.plot(x, my_arr, color='grey')\n",
    "        plt.plot(x[c], my_arr[c], \"o\", label=\"max\", color='b')\n",
    "        plt.plot(x[b], my_arr[b], \"o\", label=\"min\", color='r')\n",
    "        plt.legend()\n",
    "        plt.title('Principal Balance')\n",
    "        print(f\"local maximum:{c}\\n\")\n",
    "        print(f\"local minimum:{b}\")\n",
    "        return plt.show(), c, b, i\n",
    "    except AttributeError:\n",
    "        return('Nonetype found, run again')\n",
    "    \n",
    "_, idx_max, idx_min, i = explore_sample_peakfinding(i)"
   ]
  },
  {
   "attachments": {},
   "cell_type": "markdown",
   "metadata": {},
   "source": [
    "### Resolve 1 Balance Spike where there was an accounting error"
   ]
  },
  {
   "cell_type": "code",
   "execution_count": 750,
   "metadata": {},
   "outputs": [
    {
     "data": {
      "text/plain": [
       "[455]"
      ]
     },
     "metadata": {},
     "output_type": "display_data"
    }
   ],
   "source": [
    "e_codes = set(['195', '218', '305', '410', '416'])\n",
    "test = set_top_bot(cohort_map['2000']['2007445'].copy())\n",
    "test = test.rename(columns={'ObservationNmb':'TEST'})\n",
    "test['TransactionBalanceAmt'] = pd.to_numeric(test['TransactionBalanceAmt'])\n",
    "test['TransactionAmt'] = pd.to_numeric(test['TransactionAmt'])\n",
    "x_max = test.loc[test.index.isin(idx_max)]\n",
    "x_min = test.loc[test.index.isin(idx_min)]\n",
    "display(list(test.loc[test.index.isin(idx_max)]['Transactioncd'].values))\n",
    "min_row= x_min['TransactionBalanceAmt'].idxmin()\n",
    "max_row = x_max['TransactionBalanceAmt'].idxmax()\n",
    "test.at[min_row, 'TransactionBalanceAmt'] = -1*(test.at[min_row, 'TransactionAmt'])\n",
    "test.at[max_row, 'TransactionAmt'] = -1*(test.at[min_row, 'TransactionBalanceAmt'] - test.at[max_row, 'TransactionBalanceAmt'])\n",
    "test.at[min_row, 'TransactionAmt'] = -1*(test.at[min_row-1, 'TransactionBalanceAmt'] - test.at[min_row, 'TransactionBalanceAmt'])\n"
   ]
  },
  {
   "cell_type": "code",
   "execution_count": 753,
   "metadata": {},
   "outputs": [
    {
     "data": {
      "text/plain": [
       "set()"
      ]
     },
     "execution_count": 753,
     "metadata": {},
     "output_type": "execute_result"
    }
   ],
   "source": [
    "e_codes = set(['195', '218', '305', '410', '416','455']) \n",
    "v = set(list(test.loc[test.index.isin(idx_max)]['Transactioncd'].values))\n",
    "\n",
    "e_codes.intersection(v)"
   ]
  },
  {
   "cell_type": "code",
   "execution_count": 754,
   "metadata": {},
   "outputs": [
    {
     "data": {
      "text/plain": [
       "{455}"
      ]
     },
     "execution_count": 754,
     "metadata": {},
     "output_type": "execute_result"
    }
   ],
   "source": [
    "v"
   ]
  },
  {
   "cell_type": "code",
   "execution_count": 722,
   "metadata": {},
   "outputs": [
    {
     "data": {
      "text/plain": [
       "<AxesSubplot:>"
      ]
     },
     "execution_count": 722,
     "metadata": {},
     "output_type": "execute_result"
    },
    {
     "data": {
      "image/png": "[encoded data removed]",
      "text/plain": [
       "<Figure size 432x288 with 1 Axes>"
      ]
     },
     "metadata": {
      "needs_background": "light"
     },
     "output_type": "display_data"
    }
   ],
   "source": [
    "test['TransactionBalanceAmt'].plot()"
   ]
  },
  {
   "cell_type": "code",
   "execution_count": 725,
   "metadata": {},
   "outputs": [
    {
     "data": {
      "text/plain": [
       "True"
      ]
     },
     "execution_count": 725,
     "metadata": {},
     "output_type": "execute_result"
    }
   ],
   "source": [
    "test['TransactionBalanceAmt'].is_monotonic_decreasing"
   ]
  },
  {
   "cell_type": "code",
   "execution_count": 732,
   "metadata": {},
   "outputs": [],
   "source": [
    "master_df = pd.concat(cohort_map['2000'])"
   ]
  },
  {
   "cell_type": "code",
   "execution_count": 733,
   "metadata": {},
   "outputs": [],
   "source": [
    "master_df['LoanFundedDt'] = master_df['Origination_dt']\n",
    "master_df = master_df.drop(columns='Origination_dt')"
   ]
  },
  {
   "cell_type": "code",
   "execution_count": 739,
   "metadata": {},
   "outputs": [],
   "source": [
    "master_df = master_df[['ObservationNmb','LoanFundedDt', 'MaturityDt', 'EffectiveDt', 'Transactioncd','GeneralLedgerCd', 'TransactionAmt', 'TransactionBalanceAmt',]]"
   ]
  },
  {
   "cell_type": "code",
   "execution_count": 746,
   "metadata": {},
   "outputs": [
    {
     "data": {
      "text/html": [
       "<div>\n",
       "<style scoped>\n",
       "    .dataframe tbody tr th:only-of-type {\n",
       "        vertical-align: middle;\n",
       "    }\n",
       "\n",
       "    .dataframe tbody tr th {\n",
       "        vertical-align: top;\n",
       "    }\n",
       "\n",
       "    .dataframe thead th {\n",
       "        text-align: right;\n",
       "    }\n",
       "</style>\n",
       "<table border=\"1\" class=\"dataframe\">\n",
       "  <thead>\n",
       "    <tr style=\"text-align: right;\">\n",
       "      <th></th>\n",
       "      <th></th>\n",
       "      <th>ObservationNmb</th>\n",
       "      <th>LoanFundedDt</th>\n",
       "      <th>MaturityDt</th>\n",
       "      <th>EffectiveDt</th>\n",
       "      <th>Transactioncd</th>\n",
       "      <th>GeneralLedgerCd</th>\n",
       "      <th>TransactionAmt</th>\n",
       "      <th>TransactionBalanceAmt</th>\n",
       "    </tr>\n",
       "  </thead>\n",
       "  <tbody>\n",
       "    <tr>\n",
       "      <th>1497032</th>\n",
       "      <th>22</th>\n",
       "      <td>1497032</td>\n",
       "      <td>2000-05-02</td>\n",
       "      <td>2008-01-31</td>\n",
       "      <td>2010-09-28</td>\n",
       "      <td>305</td>\n",
       "      <td>1510</td>\n",
       "      <td>44859.50</td>\n",
       "      <td>44859.50</td>\n",
       "    </tr>\n",
       "    <tr>\n",
       "      <th>2008051</th>\n",
       "      <th>20</th>\n",
       "      <td>2008051</td>\n",
       "      <td>2000-10-17</td>\n",
       "      <td>2020-12-31</td>\n",
       "      <td>2007-10-15</td>\n",
       "      <td>305</td>\n",
       "      <td>1510</td>\n",
       "      <td>450235.00</td>\n",
       "      <td>450235.00</td>\n",
       "    </tr>\n",
       "    <tr>\n",
       "      <th>2015734</th>\n",
       "      <th>32</th>\n",
       "      <td>2015734</td>\n",
       "      <td>2000-12-21</td>\n",
       "      <td>2016-01-31</td>\n",
       "      <td>2008-05-08</td>\n",
       "      <td>305</td>\n",
       "      <td>1510</td>\n",
       "      <td>0.01</td>\n",
       "      <td>0.01</td>\n",
       "    </tr>\n",
       "  </tbody>\n",
       "</table>\n",
       "</div>"
      ],
      "text/plain": [
       "           ObservationNmb LoanFundedDt  MaturityDt EffectiveDt Transactioncd  \\\n",
       "1497032 22        1497032   2000-05-02  2008-01-31  2010-09-28           305   \n",
       "2008051 20        2008051   2000-10-17  2020-12-31  2007-10-15           305   \n",
       "2015734 32        2015734   2000-12-21  2016-01-31  2008-05-08           305   \n",
       "\n",
       "           GeneralLedgerCd TransactionAmt TransactionBalanceAmt  \n",
       "1497032 22            1510       44859.50              44859.50  \n",
       "2008051 20            1510      450235.00             450235.00  \n",
       "2015734 32            1510           0.01                  0.01  "
      ]
     },
     "execution_count": 746,
     "metadata": {},
     "output_type": "execute_result"
    }
   ],
   "source": [
    "\n",
    "\n",
    "# Where T-code 195 and Balance>0 AND transactionAmt matches transaction balance amt\n",
    "master_df.loc[(master_df.TransactionBalanceAmt>0)&(master_df.Transactioncd==305)&(master_df.TransactionAmt == master_df.TransactionBalanceAmt)]\n",
    "\n",
    "\n",
    "\n",
    "# .groupby('ObservationNmb')[['TransactionBalanceAmt']].count().sort_values(by='TransactionBalanceAmt', ascending=False)"
   ]
  },
  {
   "cell_type": "code",
   "execution_count": 8,
   "metadata": {},
   "outputs": [
    {
     "name": "stderr",
     "output_type": "stream",
     "text": [
      "  0%|          | 0/9318 [00:00<?, ?it/s]c:\\Users\\Laramie\\anaconda3\\envs\\dev\\lib\\site-packages\\numpy_financial\\_financial.py:226: RuntimeWarning: invalid value encountered in double_scalars\n",
      "  return -(fv + pv*temp) / fact\n",
      " 27%|██▋       | 2560/9318 [01:07<02:36, 43.20it/s]c:\\Users\\Laramie\\anaconda3\\envs\\dev\\lib\\site-packages\\numpy_financial\\_financial.py:226: RuntimeWarning: divide by zero encountered in double_scalars\n",
      "  return -(fv + pv*temp) / fact\n",
      "100%|██████████| 9318/9318 [04:03<00:00, 38.20it/s]\n"
     ]
    }
   ],
   "source": [
    "\n",
    "for i in tqdm( range(len(cohort_map['2000'])) ):\n",
    "    df = cohort_map['2000'][i]\n",
    "    df = cleaning_step_1(df)\n",
    "    df_l = cleaning_step_2(df)\n",
    "    df = cleaning_step_3(df_l)\n",
    "    cohort_map['2000'][i] = df\n",
    "    "
   ]
  },
  {
   "attachments": {},
   "cell_type": "markdown",
   "metadata": {},
   "source": [
    "### Smoothing Payoff Functions"
   ]
  },
  {
   "cell_type": "code",
   "execution_count": 510,
   "metadata": {},
   "outputs": [],
   "source": [
    "sample = cohort_map['2000'][320].reset_index()\n",
    "sample['Actual Balance'] = pd.to_numeric(sample['Actual Balance'])\n",
    "sample['Actual Principal'] = pd.to_numeric(sample['Actual Principal'])\n",
    "sample['delta'] = sample['Actual Balance'].pct_change().round(4)"
   ]
  },
  {
   "cell_type": "code",
   "execution_count": 511,
   "metadata": {},
   "outputs": [
    {
     "data": {
      "text/plain": [
       "<AxesSubplot:>"
      ]
     },
     "execution_count": 511,
     "metadata": {},
     "output_type": "execute_result"
    },
    {
     "data": {
      "image/png": "[encoded data removed]",
      "text/plain": [
       "<Figure size 432x288 with 1 Axes>"
      ]
     },
     "metadata": {
      "needs_background": "light"
     },
     "output_type": "display_data"
    }
   ],
   "source": [
    "idx = sample.iloc[2:].loc[(sample.delta==np.inf)|(sample.delta>0)].index\n",
    "idx\n",
    "\n",
    "for i in idx:\n",
    "    sample.loc[i-2:i+1].iloc[1:3][['Actual Principal','Actual Balance']] = np.nan\n",
    "    sample['Actual Balance'] = sample['Actual Balance'].interpolate()\n",
    "    sample.loc[i-2:i+1].iloc[1:3]['Actual Principal'] = sample.loc[i-2:i+1].iloc[1:3]['Actual Balance'].diff()\n",
    "    sample['delta'] = sample['Actual Balance'].pct_change().round(4)\n",
    "\n",
    "\n",
    "sample['delta'].plot()"
   ]
  },
  {
   "cell_type": "code",
   "execution_count": 7,
   "metadata": {},
   "outputs": [
    {
     "name": "stdout",
     "output_type": "stream",
     "text": [
      "creating amortization look_up table...\n"
     ]
    }
   ],
   "source": [
    "def cleaning_step_1(d:pd.DataFrame)-> pd.DataFrame:\n",
    "    e_codes = {195, 218, 305, 410}\n",
    "    # Format Columns\n",
    "    d = d.rename(columns={'Origination_dt':'LoanFundedDt'})\n",
    "    d['LoanFundedDt'] = pd.to_datetime(d['LoanFundedDt'])\n",
    "    d['MaturityDt'] = pd.to_datetime(d['MaturityDt'])\n",
    "    d['EffectiveDt'] = pd.to_datetime(d['EffectiveDt'])\n",
    "    d['TransactionBalanceAmt'] = pd.to_numeric(d['TransactionBalanceAmt'])\n",
    "    d['TransactionAmt'] = pd.to_numeric(d['TransactionAmt'])\n",
    "    d['delta'] = d['TransactionBalanceAmt'].pct_change().round(5)\n",
    "    # Identify first 0 balance\n",
    "    d['PaidOff']= 0\n",
    "    try:\n",
    "        d['PaidOff'] = 0\n",
    "        idx = d.loc[d['TransactionBalanceAmt']==0].iloc[0].name\n",
    "        d.at[idx, 'PaidOff'] = 1\n",
    "    except IndexError:\n",
    "        pass\n",
    "    # Identify subset of end codes that would END IO revenues from the loan\n",
    "    # 195, 218, 305, 410\n",
    "    d['e_code'] = 0\n",
    "    try:\n",
    "        d.loc[d.Transactioncd.isin(e_codes), 'e_code'] = 1    \n",
    "    except IndexError:\n",
    "        pass\n",
    "    d['MnthsFrom_Origination'] = (d['EffectiveDt']-d['LoanFundedDt'])/np.timedelta64(1,'M')\n",
    "    try:\n",
    "        d['MnthsFrom_Origination'] = d['MnthsFrom_Origination'].astype(float).round(1)\n",
    "    except:\n",
    "        pass\n",
    "        \n",
    "    d['MnthsFrom_Maturity'] = (d['MaturityDt']-d['EffectiveDt'])/np.timedelta64(1,'M')\n",
    "    try:\n",
    "        d['MnthsFrom_Maturity'] = d['MnthsFrom_Maturity'].astype(int)\n",
    "    except:\n",
    "        pass\n",
    "    # remove rows positive delta and an end code is present\n",
    "    try:\n",
    "        idx = d.loc[(d.delta>=0)&(d.e_code>0)].index\n",
    "        d = d.drop(idx)\n",
    "    except IndexError:\n",
    "        pass\n",
    "\n",
    "    # Cleaning the data set:\n",
    "    # 1) Remove transactions that record matching negative balances. These loans have payment strings whose effectivedates are likely in the \n",
    "    # wrong order\n",
    "    scuffed_data = d[(d['TransactionBalanceAmt'].values==d['TransactionAmt'].values) \\\n",
    "                & (d['TransactionAmt']<0)].index.to_list()\n",
    "    d= d.drop(scuffed_data, axis=0)\n",
    "    \n",
    "    # 2) Remove loans who's first payment is over 6 months from the OriginationDt. These loans either should have been recorded as 2001 vintage or \n",
    "    # the payment strings have incorrect effictive dates\n",
    "    # 2a) sort by origination, effectivedt, observationnmb, then the TransactionBalanceAmt\n",
    "    # missed_funding_window = d.sort_values(by = ['LoanFundedDt', 'EffectiveDt', 'ObservationNmb', 'TransactionBalanceAmt'] )\n",
    "    # # 2b) groupby observation number, taking the first transaction for each loan\n",
    "    # # This SETS THE INDEX TO OBSERVATION NMB\n",
    "    # missed_funding_window = missed_funding_window.groupby('ObservationNmb').first()\n",
    "    # # 2c) set the window to only those loans whose first transaction occured in 2001\n",
    "    # missed_funding_window = missed_funding_window[missed_funding_window['EffectiveDt'].dt.year == 2001]\n",
    "    # # 2d) create the test column that we will use to test if a loan is outside its funding window\n",
    "    # # 2e) create list of indexes outside the funding window -- do not include previously grabbed indexes\n",
    "    # more_s_data = missed_funding_window[missed_funding_window['MnthsFrom_Origination'] > 6][['TransactionBalanceAmt']].index.to_list()\n",
    "    # d = d.set_index('ObservationNmb')\n",
    "    # d = d.drop(more_s_data, axis=0).reset_index()\n",
    "\n",
    "    # 3) Drop out rows with TransactionAmounts of 1 dollar or less. I have not been able to find a discernible reason I would want those records in a payment string\n",
    "    # Usually the result of accounting errors or adhoc principal adjustments we don't need.\n",
    "    scuffed_data = d[(d['TransactionAmt']<=1)&(d['TransactionAmt']>=-1)].index.to_list()\n",
    "\n",
    "    d= d.drop(scuffed_data, axis=0)\n",
    "    # 4) Take the earliest payoff date if duplicate payoff dates exist. There will still be multiple payoff dates, but this gets rid of roughly 700 duplicate\n",
    "    # entries that have the same effect with different codes \n",
    "    d =d.drop_duplicates(subset=['ObservationNmb', 'PaidOff', 'TransactionAmt', 'TransactionBalanceAmt'], keep='first')\n",
    "\n",
    "    # Remove spike balances (not all increasing balances will be removed here, but this gets a good number)\n",
    "    # idx = d.iloc[2:].loc[(d.delta==np.inf)|(d.delta>0)].index\n",
    "    # idx\n",
    "    # for i in idx:\n",
    "    #     try:\n",
    "    #         d.loc[i-2:i+1].iloc[1:3][['TransactionAmt','TransactionBalanceAmt']] = np.nan\n",
    "    #         d['TransactionBalanceAmt'] = d['TransactionBalanceAmt'].interpolate()\n",
    "    #         d.loc[i-2:i+1].iloc[1:3]['TransactionAmt'] = d.loc[i-2:i+1].iloc[1:3]['TransactionBalanceAmt'].diff()\n",
    "    #         d['delta'] = d['TransactionBalanceAmt'].pct_change().round(4)\n",
    "    #     except:\n",
    "    #         pass\n",
    "    # return d\n",
    "print('creating amortization look_up table...')\n",
    "amortization_lookup = create_amortization_lookup(engine_obj=engine)\n",
    "amortization_lookup = amortization_lookup.set_index('ObservationNmb')\n",
    "amortization_lookup= amortization_lookup.fillna(0)\n",
    "from prepay_utilities import create_amortization_lookup, amortize    \n",
    "def cleaning_step_2(d:pd.DataFrame)->list:\n",
    "    try:\n",
    "        num = d['ObservationNmb'][0]\n",
    "        lf_dt = d['LoanFundedDt'][0]\n",
    "        m_dt = d['MaturityDt'][0]\n",
    "        interest_rate = amortization_lookup.loc[num]['BankInterestPct']\n",
    "        if amortization_lookup.loc[num]['GrossGtyDisbursementAmt']==0:\n",
    "            loan_amt = d['TransactionBalanceAmt'].max()\n",
    "        else: \n",
    "            loan_amt = amortization_lookup.loc[num]['GrossGtyDisbursementAmt']\n",
    "        try:\n",
    "            months = int( pd.Timedelta(m_dt - lf_dt)/np.timedelta64(1, 'M'))\n",
    "        except TypeError:\n",
    "            months = amortization_lookup.loc[num]['MaturityMthsQty']\n",
    "        return [d, pd.DataFrame(amortize(interest_rate, loan_amt, months))]\n",
    "    except:\n",
    "        return None\n",
    "\n",
    "def cleaning_step_3(df_list:list)->pd.DataFrame:\n",
    "    try:    \n",
    "        df_actual = df_list[0]\n",
    "        df_actual.rename(columns={'TransactionAmt': 'Actual Principal', \n",
    "                        'TransactionBalanceAmt': 'Actual Balance'}, inplace=True)\n",
    "        df_actual.set_index(pd.RangeIndex(df_actual.shape[0]), inplace=True)\n",
    "\n",
    "        df_scheduled = df_list[1][['Scheduled Principal','Begging Loan Balance','Ending Loan Balance']]\n",
    "        df_scheduled.rename(columns={'Begging Loan Balance':'EstimateBegBal',\n",
    "                            'Ending Loan Balance': 'EstimateEndBal'}, inplace=True)\n",
    "        df_scheduled = df_scheduled.shift(1)\n",
    "        df_scheduled.set_index(pd.RangeIndex(df_scheduled.shape[0]), inplace=True)\n",
    "        \n",
    "        merged = df_scheduled.merge(df_actual, left_index=True, right_index=True, how='outer')\n",
    "        merged['Difference_p'] = merged['Actual Balance'].diff()\n",
    "        \n",
    "        merged.loc[(merged['Actual Principal']<0), 'Difference_from_estimat'] = (merged['Scheduled Principal']+merged['Actual Principal'])\n",
    "        \n",
    "        \n",
    "        # Chop length of dataframe by getting rid of unnessecary rows (payment string has ended but amortization continues)\n",
    "        chop_here = (merged[merged.ObservationNmb.isnull()].iloc[0].name)\n",
    "        merged = merged.iloc[0:chop_here]\n",
    "        return merged\n",
    "    except:\n",
    "        return None\n"
   ]
  },
  {
   "cell_type": "code",
   "execution_count": 319,
   "metadata": {},
   "outputs": [
    {
     "name": "stdout",
     "output_type": "stream",
     "text": [
      "cleaning...\n",
      "\n",
      "cleaning...\n",
      "\n",
      "cleaning...\n",
      "\n",
      "cleaning...\n"
     ]
    }
   ],
   "source": [
    "e_codes = {195, 218, 305, 410}\n",
    "# for d in cohort_map['2000'][0:1]:\n",
    "\n",
    "# Format Columns\n",
    "d = cohort_map['2000'][0]\n",
    "d = d.rename(columns={'Origination_dt':'LoanFundedDt'})\n",
    "d['LoanFundedDt'] = pd.to_datetime(d['LoanFundedDt'])\n",
    "d['MaturityDt'] = pd.to_datetime(d['MaturityDt'])\n",
    "d['EffectiveDt'] = pd.to_datetime(d['EffectiveDt'])\n",
    "d['TransactionBalanceAmt'] = pd.to_numeric(d['TransactionBalanceAmt'])\n",
    "d['TransactionAmt'] = pd.to_numeric(d['TransactionAmt'])\n",
    "d['delta'] = d['TransactionBalanceAmt'].pct_change().round(5)\n",
    "# Identify first 0 balance\n",
    "d['PaidOff']= 0\n",
    "try:\n",
    "    d['PaidOff'] = 0\n",
    "    idx = d.loc[d['TransactionBalanceAmt']==0].iloc[0].name\n",
    "    d.at[idx, 'PaidOff'] = 1\n",
    "except IndexError:\n",
    "    pass\n",
    "# Identify subset of error codes that would end IO revenues from the loan\n",
    "# 195, 218, 305, 410\n",
    "d['e_code'] = 0\n",
    "try:\n",
    "    d.loc[d.Transactioncd.isin(e_codes), 'e_code'] = 1    \n",
    "except IndexError:\n",
    "    pass\n",
    "d['MnthsFrom_Origination'] = (d['EffectiveDt']-d['LoanFundedDt'])/np.timedelta64(1,'M')\n",
    "d['MnthsFrom_Origination'] = d['MnthsFrom_Origination'].astype(float).round(1)\n",
    "    \n",
    "d['MnthsFrom_Maturity'] = (d['MaturityDt']-d['EffectiveDt'])/np.timedelta64(1,'M')\n",
    "d['MnthsFrom_Maturity'] = d['MnthsFrom_Maturity'].astype(int)\n",
    "# remove rows positive delta and an encode is present\n",
    "try:\n",
    "    idx = d.loc[(d.delta>=0)&(d.e_code>0)].index\n",
    "    d = d.drop(idx)\n",
    "except IndexError:\n",
    "    pass\n",
    "print('cleaning...\\n')\n",
    "# Cleaning the data set:\n",
    "# 1) Remove transactions that record matching negative balances. These loans have payment strings whose effectivedates are likely in the \n",
    "# wrong order\n",
    "scuffed_data = d[(d['TransactionBalanceAmt'].values==d['TransactionAmt'].values) \\\n",
    "            & (d['TransactionAmt']<0)].index.to_list()\n",
    "d= d.drop(scuffed_data, axis=0)\n",
    "# 2) Remove loans who's first payment is over 6 months from the OriginationDt. These loans either should have been recorded as 2001 vintage or \n",
    "# the payment strings have incorrect effictive dates\n",
    "# 2a) sort by origination, effectivedt, observationnmb, then the TransactionBalanceAmt\n",
    "missed_funding_window = d.sort_values(by = ['LoanFundedDt', 'EffectiveDt', 'ObservationNmb', 'TransactionBalanceAmt'] )\n",
    "# 2b) groupby observation number, taking the first transaction for each loan\n",
    "# This SETS THE INDEX TO OBSERVATION NMB\n",
    "missed_funding_window = missed_funding_window.groupby('ObservationNmb').first()\n",
    "# 2c) set the window to only those loans whose first transaction occured in 2001\n",
    "missed_funding_window = missed_funding_window[missed_funding_window['EffectiveDt'].dt.year == 2001]\n",
    "# 2d) create the test column that we will use to test if a loan is outside its funding window\n",
    "# 2e) create list of indexes outside the funding window -- do not include previously grabbed indexes\n",
    "more_s_data = missed_funding_window[missed_funding_window['MnthsFrom_Origination'] > 6][['TransactionBalanceAmt']].index.to_list()\n",
    "d = d.set_index('ObservationNmb')\n",
    "print('cleaning...\\n')\n",
    "d = d.drop(more_s_data, axis=0).reset_index()\n",
    "# 3) Drop out rows with TransactionAmounts of 1 dollar or less. I have not been able to find a discernible reason I would want those records in a payment string\n",
    "# Usually the result of accounting errors or adhoc principal adjustments we don't need.\n",
    "scuffed_data = d[(d['TransactionAmt']<=1)&(d['TransactionAmt']>=-1)].index.to_list()\n",
    "print('cleaning...\\n')\n",
    "d= d.drop(scuffed_data, axis=0)\n",
    "# 4) Take the earliest payoff date if duplicate payoff dates exist. There will still be multiple payoff dates, but this gets rid of roughly 700 duplicate\n",
    "# entries that have the same effect with different codes \n",
    "d =d.drop_duplicates(subset=['ObservationNmb', 'PaidOff', 'TransactionAmt', 'TransactionBalanceAmt'], keep='first')\n",
    "print(\"cleaning...\")\n",
    "# Remove spike balances (not all increasing balances will be removed here, but this gets a good number)\n",
    "idx = d.iloc[2:].loc[(d.delta==np.inf)|(d.delta>0)].index\n",
    "idx\n",
    "for i in idx:\n",
    "    try:\n",
    "        d.loc[i-2:i+1].iloc[1:3][['TransactionAmt','TransactionBalanceAmt']] = np.nan\n",
    "        d['TransactionBalanceAmt'] = d['TransactionBalanceAmt'].interpolate()\n",
    "        d.loc[i-2:i+1].iloc[1:3]['TransactionAmt'] = d.loc[i-2:i+1].iloc[1:3]['TransactionBalanceAmt'].diff()\n",
    "        d['delta'] = d['TransactionBalanceAmt'].pct_change().round(4)\n",
    "    except:\n",
    "        pass\n",
    "\n",
    "\n",
    "\n",
    "\n",
    "\n"
   ]
  },
  {
   "cell_type": "code",
   "execution_count": 220,
   "metadata": {},
   "outputs": [
    {
     "data": {
      "text/html": [
       "<div>\n",
       "<style scoped>\n",
       "    .dataframe tbody tr th:only-of-type {\n",
       "        vertical-align: middle;\n",
       "    }\n",
       "\n",
       "    .dataframe tbody tr th {\n",
       "        vertical-align: top;\n",
       "    }\n",
       "\n",
       "    .dataframe thead th {\n",
       "        text-align: right;\n",
       "    }\n",
       "</style>\n",
       "<table border=\"1\" class=\"dataframe\">\n",
       "  <thead>\n",
       "    <tr style=\"text-align: right;\">\n",
       "      <th></th>\n",
       "      <th>Scheduled Principal</th>\n",
       "      <th>EstimateBegBal</th>\n",
       "      <th>EstimateEndBal</th>\n",
       "      <th>ObservationNmb</th>\n",
       "      <th>LoanFundedDt</th>\n",
       "      <th>MaturityDt</th>\n",
       "      <th>EffectiveDt</th>\n",
       "      <th>Transactioncd</th>\n",
       "      <th>GeneralLedgerCd</th>\n",
       "      <th>Actual Principal</th>\n",
       "      <th>Actual Balance</th>\n",
       "      <th>delta</th>\n",
       "      <th>PaidOff</th>\n",
       "      <th>e_code</th>\n",
       "      <th>MnthsFrom_Origination</th>\n",
       "      <th>MnthsFrom_Maturity</th>\n",
       "      <th>Difference_p</th>\n",
       "      <th>Difference_from_estimat</th>\n",
       "    </tr>\n",
       "  </thead>\n",
       "  <tbody>\n",
       "    <tr>\n",
       "      <th>0</th>\n",
       "      <td>NaN</td>\n",
       "      <td>NaN</td>\n",
       "      <td>NaN</td>\n",
       "      <td>1482170</td>\n",
       "      <td>2000-01-12</td>\n",
       "      <td>2025-01-31</td>\n",
       "      <td>2000-01-31</td>\n",
       "      <td>455</td>\n",
       "      <td>6031</td>\n",
       "      <td>525423.00</td>\n",
       "      <td>525423.00</td>\n",
       "      <td>NaN</td>\n",
       "      <td>0.00</td>\n",
       "      <td>0.00</td>\n",
       "      <td>0.60</td>\n",
       "      <td>300.00</td>\n",
       "      <td>NaN</td>\n",
       "      <td>NaN</td>\n",
       "    </tr>\n",
       "    <tr>\n",
       "      <th>1</th>\n",
       "      <td>1038.00</td>\n",
       "      <td>1500000.00</td>\n",
       "      <td>1498962.00</td>\n",
       "      <td>1482170</td>\n",
       "      <td>2000-01-12</td>\n",
       "      <td>2025-01-31</td>\n",
       "      <td>2000-03-31</td>\n",
       "      <td>455</td>\n",
       "      <td>6031</td>\n",
       "      <td>NaN</td>\n",
       "      <td>681204.00</td>\n",
       "      <td>0.30</td>\n",
       "      <td>0.00</td>\n",
       "      <td>0.00</td>\n",
       "      <td>2.60</td>\n",
       "      <td>298.00</td>\n",
       "      <td>155781.00</td>\n",
       "      <td>NaN</td>\n",
       "    </tr>\n",
       "    <tr>\n",
       "      <th>2</th>\n",
       "      <td>1047.00</td>\n",
       "      <td>1498962.00</td>\n",
       "      <td>1497915.00</td>\n",
       "      <td>1482170</td>\n",
       "      <td>2000-01-12</td>\n",
       "      <td>2025-01-31</td>\n",
       "      <td>2000-04-30</td>\n",
       "      <td>455</td>\n",
       "      <td>6031</td>\n",
       "      <td>NaN</td>\n",
       "      <td>954136.00</td>\n",
       "      <td>0.40</td>\n",
       "      <td>0.00</td>\n",
       "      <td>0.00</td>\n",
       "      <td>3.60</td>\n",
       "      <td>297.00</td>\n",
       "      <td>272932.00</td>\n",
       "      <td>NaN</td>\n",
       "    </tr>\n",
       "    <tr>\n",
       "      <th>3</th>\n",
       "      <td>1056.00</td>\n",
       "      <td>1497915.00</td>\n",
       "      <td>1496859.00</td>\n",
       "      <td>1482170</td>\n",
       "      <td>2000-01-12</td>\n",
       "      <td>2025-01-31</td>\n",
       "      <td>2000-05-31</td>\n",
       "      <td>455</td>\n",
       "      <td>6031</td>\n",
       "      <td>NaN</td>\n",
       "      <td>1135984.00</td>\n",
       "      <td>0.19</td>\n",
       "      <td>0.00</td>\n",
       "      <td>0.00</td>\n",
       "      <td>4.60</td>\n",
       "      <td>296.00</td>\n",
       "      <td>181848.00</td>\n",
       "      <td>NaN</td>\n",
       "    </tr>\n",
       "    <tr>\n",
       "      <th>4</th>\n",
       "      <td>1065.00</td>\n",
       "      <td>1496859.00</td>\n",
       "      <td>1495794.00</td>\n",
       "      <td>1482170</td>\n",
       "      <td>2000-01-12</td>\n",
       "      <td>2025-01-31</td>\n",
       "      <td>2000-06-30</td>\n",
       "      <td>455</td>\n",
       "      <td>6031</td>\n",
       "      <td>181848.00</td>\n",
       "      <td>1317832.00</td>\n",
       "      <td>0.16</td>\n",
       "      <td>0.00</td>\n",
       "      <td>0.00</td>\n",
       "      <td>5.60</td>\n",
       "      <td>295.00</td>\n",
       "      <td>181848.00</td>\n",
       "      <td>NaN</td>\n",
       "    </tr>\n",
       "    <tr>\n",
       "      <th>5</th>\n",
       "      <td>1075.00</td>\n",
       "      <td>1495794.00</td>\n",
       "      <td>1494719.00</td>\n",
       "      <td>1482170</td>\n",
       "      <td>2000-01-12</td>\n",
       "      <td>2025-01-31</td>\n",
       "      <td>2001-03-31</td>\n",
       "      <td>455</td>\n",
       "      <td>6031</td>\n",
       "      <td>-315.34</td>\n",
       "      <td>1499680.00</td>\n",
       "      <td>0.14</td>\n",
       "      <td>0.00</td>\n",
       "      <td>0.00</td>\n",
       "      <td>14.60</td>\n",
       "      <td>286.00</td>\n",
       "      <td>181848.00</td>\n",
       "      <td>759.66</td>\n",
       "    </tr>\n",
       "    <tr>\n",
       "      <th>6</th>\n",
       "      <td>1084.00</td>\n",
       "      <td>1494719.00</td>\n",
       "      <td>1493635.00</td>\n",
       "      <td>1482170</td>\n",
       "      <td>2000-01-12</td>\n",
       "      <td>2025-01-31</td>\n",
       "      <td>2001-04-30</td>\n",
       "      <td>455</td>\n",
       "      <td>6031</td>\n",
       "      <td>-816.94</td>\n",
       "      <td>1498870.00</td>\n",
       "      <td>-0.00</td>\n",
       "      <td>0.00</td>\n",
       "      <td>0.00</td>\n",
       "      <td>15.60</td>\n",
       "      <td>285.00</td>\n",
       "      <td>-810.00</td>\n",
       "      <td>267.06</td>\n",
       "    </tr>\n",
       "    <tr>\n",
       "      <th>7</th>\n",
       "      <td>1094.00</td>\n",
       "      <td>1493635.00</td>\n",
       "      <td>1492541.00</td>\n",
       "      <td>1482170</td>\n",
       "      <td>2000-01-12</td>\n",
       "      <td>2025-01-31</td>\n",
       "      <td>2001-05-31</td>\n",
       "      <td>455</td>\n",
       "      <td>6031</td>\n",
       "      <td>-2318.84</td>\n",
       "      <td>1496550.00</td>\n",
       "      <td>-0.00</td>\n",
       "      <td>0.00</td>\n",
       "      <td>0.00</td>\n",
       "      <td>16.60</td>\n",
       "      <td>284.00</td>\n",
       "      <td>-2320.00</td>\n",
       "      <td>-1224.84</td>\n",
       "    </tr>\n",
       "    <tr>\n",
       "      <th>8</th>\n",
       "      <td>1103.00</td>\n",
       "      <td>1492541.00</td>\n",
       "      <td>1491438.00</td>\n",
       "      <td>1482170</td>\n",
       "      <td>2000-01-12</td>\n",
       "      <td>2025-01-31</td>\n",
       "      <td>2001-06-30</td>\n",
       "      <td>455</td>\n",
       "      <td>6031</td>\n",
       "      <td>-1496550.00</td>\n",
       "      <td>0.00</td>\n",
       "      <td>-1.00</td>\n",
       "      <td>1.00</td>\n",
       "      <td>0.00</td>\n",
       "      <td>17.60</td>\n",
       "      <td>283.00</td>\n",
       "      <td>-1496550.00</td>\n",
       "      <td>-1495447.00</td>\n",
       "    </tr>\n",
       "  </tbody>\n",
       "</table>\n",
       "</div>"
      ],
      "text/plain": [
       "   Scheduled Principal  EstimateBegBal  EstimateEndBal ObservationNmb  \\\n",
       "0                  NaN             NaN             NaN        1482170   \n",
       "1              1038.00      1500000.00      1498962.00        1482170   \n",
       "2              1047.00      1498962.00      1497915.00        1482170   \n",
       "3              1056.00      1497915.00      1496859.00        1482170   \n",
       "4              1065.00      1496859.00      1495794.00        1482170   \n",
       "5              1075.00      1495794.00      1494719.00        1482170   \n",
       "6              1084.00      1494719.00      1493635.00        1482170   \n",
       "7              1094.00      1493635.00      1492541.00        1482170   \n",
       "8              1103.00      1492541.00      1491438.00        1482170   \n",
       "\n",
       "  LoanFundedDt MaturityDt EffectiveDt Transactioncd GeneralLedgerCd  \\\n",
       "0   2000-01-12 2025-01-31  2000-01-31           455            6031   \n",
       "1   2000-01-12 2025-01-31  2000-03-31           455            6031   \n",
       "2   2000-01-12 2025-01-31  2000-04-30           455            6031   \n",
       "3   2000-01-12 2025-01-31  2000-05-31           455            6031   \n",
       "4   2000-01-12 2025-01-31  2000-06-30           455            6031   \n",
       "5   2000-01-12 2025-01-31  2001-03-31           455            6031   \n",
       "6   2000-01-12 2025-01-31  2001-04-30           455            6031   \n",
       "7   2000-01-12 2025-01-31  2001-05-31           455            6031   \n",
       "8   2000-01-12 2025-01-31  2001-06-30           455            6031   \n",
       "\n",
       "   Actual Principal  Actual Balance  delta  PaidOff  e_code  \\\n",
       "0         525423.00       525423.00    NaN     0.00    0.00   \n",
       "1               NaN       681204.00   0.30     0.00    0.00   \n",
       "2               NaN       954136.00   0.40     0.00    0.00   \n",
       "3               NaN      1135984.00   0.19     0.00    0.00   \n",
       "4         181848.00      1317832.00   0.16     0.00    0.00   \n",
       "5           -315.34      1499680.00   0.14     0.00    0.00   \n",
       "6           -816.94      1498870.00  -0.00     0.00    0.00   \n",
       "7          -2318.84      1496550.00  -0.00     0.00    0.00   \n",
       "8       -1496550.00            0.00  -1.00     1.00    0.00   \n",
       "\n",
       "   MnthsFrom_Origination  MnthsFrom_Maturity  Difference_p  \\\n",
       "0                   0.60              300.00           NaN   \n",
       "1                   2.60              298.00     155781.00   \n",
       "2                   3.60              297.00     272932.00   \n",
       "3                   4.60              296.00     181848.00   \n",
       "4                   5.60              295.00     181848.00   \n",
       "5                  14.60              286.00     181848.00   \n",
       "6                  15.60              285.00       -810.00   \n",
       "7                  16.60              284.00      -2320.00   \n",
       "8                  17.60              283.00   -1496550.00   \n",
       "\n",
       "   Difference_from_estimat  \n",
       "0                      NaN  \n",
       "1                      NaN  \n",
       "2                      NaN  \n",
       "3                      NaN  \n",
       "4                      NaN  \n",
       "5                   759.66  \n",
       "6                   267.06  \n",
       "7                 -1224.84  \n",
       "8              -1495447.00  "
      ]
     },
     "execution_count": 220,
     "metadata": {},
     "output_type": "execute_result"
    }
   ],
   "source": [
    "from prepay_utilities import show_slice\n",
    "\n",
    "cohort_map['2000'][319]"
   ]
  },
  {
   "cell_type": "code",
   "execution_count": 132,
   "metadata": {},
   "outputs": [],
   "source": [
    "master_2000 = pd.concat(cohort_map['2000'])\n",
    "# 2) Remove loans who's first payment is over 6 months from the OriginationDt. These loans either should have been recorded as 2001 vintage or \n",
    "# the payment strings have incorrect effictive dates\n",
    "# 2a) sort by origination, effectivedt, observationnmb, then the TransactionBalanceAmt\n",
    "missed_funding_window = master_2000.sort_values(by = ['LoanFundedDt', 'EffectiveDt', 'ObservationNmb', 'Actual Principal'] )\n",
    "# 2b) groupby observation number, taking the first transaction for each loan\n",
    "# This SETS THE INDEX TO OBSERVATION NMB\n",
    "missed_funding_window = missed_funding_window.groupby('ObservationNmb').first()\n",
    "# 2c) set the window to only those loans whose first transaction occured in 2001\n",
    "missed_funding_window = missed_funding_window[missed_funding_window['EffectiveDt'].dt.year == 2001]\n",
    "# 2d) create the test column that we will use to test if a loan is outside its funding window\n",
    "# 2e) create list of indexes outside the funding window -- do not include previously grabbed indexes\n",
    "more_s_data = missed_funding_window[missed_funding_window['MnthsFrom_Origination'] > 6][['Actual Principal']].index.to_list()\n",
    "master_2000 = master_2000.set_index('ObservationNmb')\n",
    "master_2000 = master_2000.drop(more_s_data, axis=0).reset_index()\n",
    "master_2000['Month'] = master_2000['EffectiveDt'].dt.month\n",
    "master_2000['Year'] = master_2000['EffectiveDt'].dt.year\n",
    "master_2000 = master_2000[master_2000['EffectiveDt'].dt.year != 1960]\n",
    "master_2000['Difference_l'] = 0\n",
    "master_2000.loc[master_2000['Difference_p']<0, 'Difference_l'] = master_2000.Difference_p + master_2000['Scheduled Principal']\n",
    "inspect = master_2000[(master_2000.Year==2009) & (master_2000.Month==6)]\n",
    "idx = inspect[inspect['delta'] > 0].index\n",
    "# master_copy = master_2000.drop(idx)\n",
    "# master_copy[(master_copy.Year==2009) & (master_copy.Month==6) & (master_copy.delta)]['Actual Balance'].sum()\n"
   ]
  },
  {
   "cell_type": "code",
   "execution_count": 205,
   "metadata": {},
   "outputs": [
    {
     "data": {
      "text/plain": [
       "0     1482171\n",
       "1     1482171\n",
       "2     1482171\n",
       "3     1482171\n",
       "4     1482171\n",
       "       ...   \n",
       "78    1482171\n",
       "79    1482171\n",
       "80    1482171\n",
       "81    1482171\n",
       "82    1482171\n",
       "Name: ObservationNmb, Length: 83, dtype: object"
      ]
     },
     "execution_count": 205,
     "metadata": {},
     "output_type": "execute_result"
    }
   ],
   "source": [
    "cohort_map['2000'][320]['ObservationNmb']"
   ]
  },
  {
   "cell_type": "code",
   "execution_count": 191,
   "metadata": {},
   "outputs": [
    {
     "data": {
      "text/plain": [
       "-1164606777.0798826"
      ]
     },
     "execution_count": 191,
     "metadata": {},
     "output_type": "execute_result"
    }
   ],
   "source": [
    "# test = master_2000[master_2000.MnthsFrom_Maturity>=300].groupby('ObservationNmb').first()\n",
    "# test['Diff_'] = ((test['LoanFundedDt'] - test['MaturityDt']) / np.timedelta64(1,'M'))\n",
    "test = master_2000.groupby(['ObservationNmb', 'Year', 'Month']).first().reset_index()\n",
    "\n",
    "s = test[test['delta']>0]['ObservationNmb'].value_counts()\n",
    "idx = s[s>2].index\n",
    "\n",
    "test = master_2000[~master_2000['ObservationNmb'].isin(idx)]\n",
    "\n",
    "test2 = master_2000.groupby(['ObservationNmb', 'Year', 'Month']).last().reset_index()\n",
    "test2[(test2['PaidOff']==1)&(test2['delta']<0)]['Difference_l'].sum()"
   ]
  },
  {
   "cell_type": "code",
   "execution_count": 197,
   "metadata": {},
   "outputs": [
    {
     "data": {
      "text/plain": [
       "Difference_l   -1834662856.92\n",
       "dtype: float64"
      ]
     },
     "execution_count": 197,
     "metadata": {},
     "output_type": "execute_result"
    }
   ],
   "source": [
    "master_2000.groupby(['Year', 'Month']).sum()[['Difference_l']].sum()"
   ]
  },
  {
   "cell_type": "code",
   "execution_count": 201,
   "metadata": {},
   "outputs": [
    {
     "data": {
      "text/plain": [
       "Difference_l   -1242102454.48\n",
       "dtype: float64"
      ]
     },
     "execution_count": 201,
     "metadata": {},
     "output_type": "execute_result"
    }
   ],
   "source": [
    "test.groupby(['ObservationNmb','Year','Month'])[['Difference_l']].sum().reset_index().groupby(['Year','Month']).sum().sum()"
   ]
  },
  {
   "cell_type": "code",
   "execution_count": null,
   "metadata": {},
   "outputs": [],
   "source": [
    "missed_funding_window = master_2000.sort_values(by = ['LoanFundedDt', 'EffectiveDt', 'ObservationNmb', 'Actual Principal'] )\n",
    "# 2b) groupby observation number, taking the first transaction for each loan\n",
    "# This SETS THE INDEX TO OBSERVATION NMB\n",
    "missed_funding_window = missed_funding_window.groupby('ObservationNmb').first()\n",
    "# 2c) set the window to only those loans whose first transaction occured in 2001\n",
    "missed_funding_window = missed_funding_window[missed_funding_window['EffectiveDt'].dt.year == 2001]\n",
    "\n",
    "missed_funding_window"
   ]
  },
  {
   "cell_type": "code",
   "execution_count": 202,
   "metadata": {},
   "outputs": [],
   "source": [
    "df1 = test.groupby(['Year','Month'])[['Actual Balance']].sum().reset_index()\n",
    "df2 = test.groupby(['ObservationNmb','Year','Month'])[['Difference_l']].sum().reset_index().groupby(['Year','Month']).sum().reset_index()\n",
    "\n",
    "df1.merge(df2, how='outer', on=['Year','Month']).to_csv('csvs/filter_all_increasing_balances.csv', mode='w')"
   ]
  },
  {
   "cell_type": "code",
   "execution_count": 453,
   "metadata": {},
   "outputs": [],
   "source": [
    "obs=master_copy[(master_copy.Year==2000)&(master_copy.Month==1)]['ObservationNmb'].to_list()\n",
    "\n",
    "test_df = master_copy.loc[master_copy['ObservationNmb'].isin(obs)]\n",
    "df1 = test_df.groupby(['ObservationNmb','Year','Month'])[['Actual Balance']].sum().reset_index().groupby(['Year','Month']).sum().reset_index()\n",
    "df2 = test_df.groupby(['ObservationNmb','Year','Month'])[['Difference_l']].sum().reset_index().groupby(['Year','Month']).sum().reset_index()\n",
    "\n",
    "df1.merge(df2, how='outer', on=['Year','Month']).to_csv('csvs/12-16/2000-1_2.csv')"
   ]
  },
  {
   "cell_type": "code",
   "execution_count": 466,
   "metadata": {},
   "outputs": [
    {
     "data": {
      "text/html": [
       "<div>\n",
       "<style scoped>\n",
       "    .dataframe tbody tr th:only-of-type {\n",
       "        vertical-align: middle;\n",
       "    }\n",
       "\n",
       "    .dataframe tbody tr th {\n",
       "        vertical-align: top;\n",
       "    }\n",
       "\n",
       "    .dataframe thead th {\n",
       "        text-align: right;\n",
       "    }\n",
       "</style>\n",
       "<table border=\"1\" class=\"dataframe\">\n",
       "  <thead>\n",
       "    <tr style=\"text-align: right;\">\n",
       "      <th></th>\n",
       "      <th>ObservationNmb</th>\n",
       "      <th>Year</th>\n",
       "      <th>Month</th>\n",
       "    </tr>\n",
       "  </thead>\n",
       "  <tbody>\n",
       "    <tr>\n",
       "      <th>0</th>\n",
       "      <td>1469636</td>\n",
       "      <td>2000</td>\n",
       "      <td>1</td>\n",
       "    </tr>\n",
       "    <tr>\n",
       "      <th>21</th>\n",
       "      <td>1476786</td>\n",
       "      <td>2000</td>\n",
       "      <td>1</td>\n",
       "    </tr>\n",
       "    <tr>\n",
       "      <th>23</th>\n",
       "      <td>1478270</td>\n",
       "      <td>2000</td>\n",
       "      <td>1</td>\n",
       "    </tr>\n",
       "    <tr>\n",
       "      <th>26</th>\n",
       "      <td>1480769</td>\n",
       "      <td>2000</td>\n",
       "      <td>1</td>\n",
       "    </tr>\n",
       "    <tr>\n",
       "      <th>27</th>\n",
       "      <td>1480771</td>\n",
       "      <td>2000</td>\n",
       "      <td>1</td>\n",
       "    </tr>\n",
       "    <tr>\n",
       "      <th>...</th>\n",
       "      <td>...</td>\n",
       "      <td>...</td>\n",
       "      <td>...</td>\n",
       "    </tr>\n",
       "    <tr>\n",
       "      <th>6472</th>\n",
       "      <td>2010759</td>\n",
       "      <td>2004</td>\n",
       "      <td>5</td>\n",
       "    </tr>\n",
       "    <tr>\n",
       "      <th>5512</th>\n",
       "      <td>1515286</td>\n",
       "      <td>2004</td>\n",
       "      <td>6</td>\n",
       "    </tr>\n",
       "    <tr>\n",
       "      <th>6378</th>\n",
       "      <td>2010100</td>\n",
       "      <td>2005</td>\n",
       "      <td>1</td>\n",
       "    </tr>\n",
       "    <tr>\n",
       "      <th>4217</th>\n",
       "      <td>1506074</td>\n",
       "      <td>2005</td>\n",
       "      <td>3</td>\n",
       "    </tr>\n",
       "    <tr>\n",
       "      <th>7295</th>\n",
       "      <td>2016246</td>\n",
       "      <td>2005</td>\n",
       "      <td>3</td>\n",
       "    </tr>\n",
       "  </tbody>\n",
       "</table>\n",
       "<p>7356 rows × 3 columns</p>\n",
       "</div>"
      ],
      "text/plain": [
       "     ObservationNmb  Year  Month\n",
       "0           1469636  2000      1\n",
       "21          1476786  2000      1\n",
       "23          1478270  2000      1\n",
       "26          1480769  2000      1\n",
       "27          1480771  2000      1\n",
       "...             ...   ...    ...\n",
       "6472        2010759  2004      5\n",
       "5512        1515286  2004      6\n",
       "6378        2010100  2005      1\n",
       "4217        1506074  2005      3\n",
       "7295        2016246  2005      3\n",
       "\n",
       "[7356 rows x 3 columns]"
      ]
     },
     "execution_count": 466,
     "metadata": {},
     "output_type": "execute_result"
    }
   ],
   "source": [
    "test_df = master_2000[['Year','Month','ObservationNmb']].groupby('ObservationNmb').first().reset_index()\n",
    "\n",
    "test_df.sort_values(['Year', 'Month'])\n",
    "\n"
   ]
  },
  {
   "cell_type": "code",
   "execution_count": 129,
   "metadata": {},
   "outputs": [],
   "source": [
    "\n",
    "arr = sample['delta'].to_list()\n",
    "\n",
    "def bsearch_removal(array, low, high, num_runs):\n",
    "    num_runs -=1\n",
    "    test_list = array[:]\n",
    "    pos_idx = []\n",
    "    found_positive = False\n",
    "    found_negative = False\n",
    "    while low <= high:\n",
    "        mid = low + (high - low)//2\n",
    "        if test_list[mid] > 0:\n",
    "            pos_idx.append(mid)\n",
    "            found_positive = True\n",
    "            temp = mid - 1 \n",
    "        while found_positive:\n",
    "            if temp < low:\n",
    "                found_positive = False   \n",
    "            elif test_list[temp] >= 0:\n",
    "                pos_idx.append(temp)\n",
    "            else:\n",
    "                found_positive = False  \n",
    "                found_negative = True\n",
    "                temp = mid + 1\n",
    "                while found_negative:\n",
    "                    if temp > high:\n",
    "                        found_negative = False\n",
    "                    elif test_list[temp] >= 0:\n",
    "                        pos_idx.append(temp)\n",
    "                    else:\n",
    "                        found_negative = False\n",
    "                    temp += 1\n",
    "            temp -= 1\n",
    "        else:\n",
    "            high = mid -1    \n",
    "    for i in sorted(pos_idx, reverse=True):\n",
    "        del test_list[i]\n",
    "    if num_runs == 0:\n",
    "        return test_list \n",
    "    else: \n",
    "        return bsearch_removal(test_list,0,len(test_list)-1, num_runs)\n",
    "\n",
    "test = bsearch_removal(arr, 0, len(arr)-1, 50)\n",
    "original = pd.Series(arr)\n",
    "    \n"
   ]
  },
  {
   "cell_type": "code",
   "execution_count": 475,
   "metadata": {},
   "outputs": [
    {
     "data": {
      "text/html": [
       "<div>\n",
       "<style scoped>\n",
       "    .dataframe tbody tr th:only-of-type {\n",
       "        vertical-align: middle;\n",
       "    }\n",
       "\n",
       "    .dataframe tbody tr th {\n",
       "        vertical-align: top;\n",
       "    }\n",
       "\n",
       "    .dataframe thead th {\n",
       "        text-align: right;\n",
       "    }\n",
       "</style>\n",
       "<table border=\"1\" class=\"dataframe\">\n",
       "  <thead>\n",
       "    <tr style=\"text-align: right;\">\n",
       "      <th></th>\n",
       "      <th>Actual Principal</th>\n",
       "      <th>Transactioncd</th>\n",
       "      <th>GeneralLedgerCd</th>\n",
       "      <th>Actual Balance</th>\n",
       "    </tr>\n",
       "  </thead>\n",
       "  <tbody>\n",
       "    <tr>\n",
       "      <th>369260</th>\n",
       "      <td>-6180.56</td>\n",
       "      <td>455</td>\n",
       "      <td>6031</td>\n",
       "      <td>185279.00</td>\n",
       "    </tr>\n",
       "    <tr>\n",
       "      <th>369261</th>\n",
       "      <td>191459.00</td>\n",
       "      <td>455</td>\n",
       "      <td>6031</td>\n",
       "      <td>191459.00</td>\n",
       "    </tr>\n",
       "    <tr>\n",
       "      <th>369262</th>\n",
       "      <td>-18404.10</td>\n",
       "      <td>455</td>\n",
       "      <td>6031</td>\n",
       "      <td>166875.00</td>\n",
       "    </tr>\n",
       "    <tr>\n",
       "      <th>369263</th>\n",
       "      <td>-166875.00</td>\n",
       "      <td>455</td>\n",
       "      <td>6031</td>\n",
       "      <td>0.00</td>\n",
       "    </tr>\n",
       "  </tbody>\n",
       "</table>\n",
       "</div>"
      ],
      "text/plain": [
       "        Actual Principal Transactioncd GeneralLedgerCd  Actual Balance\n",
       "369260          -6180.56           455            6031       185279.00\n",
       "369261         191459.00           455            6031       191459.00\n",
       "369262         -18404.10           455            6031       166875.00\n",
       "369263        -166875.00           455            6031            0.00"
      ]
     },
     "execution_count": 475,
     "metadata": {},
     "output_type": "execute_result"
    }
   ],
   "source": [
    "from prepay_utilities import show_slice\n",
    "\n",
    "test = show_slice(master_2000, '2016246')\n",
    "\n",
    "test[['Actual Principal', 'Transactioncd' , 'GeneralLedgerCd' ,'Actual Balance']]"
   ]
  },
  {
   "cell_type": "code",
   "execution_count": 130,
   "metadata": {},
   "outputs": [
    {
     "data": {
      "text/plain": [
       "<AxesSubplot:>"
      ]
     },
     "metadata": {},
     "output_type": "display_data"
    },
    {
     "data": {
      "image/png": "[encoded data removed]",
      "text/plain": [
       "<Figure size 432x288 with 1 Axes>"
      ]
     },
     "metadata": {
      "needs_background": "light"
     },
     "output_type": "display_data"
    }
   ],
   "source": [
    "display(pd.Series(test).plot())\n",
    "# display(original.plot())"
   ]
  },
  {
   "attachments": {},
   "cell_type": "markdown",
   "metadata": {},
   "source": [
    "#### first shot -- not bad"
   ]
  },
  {
   "cell_type": "code",
   "execution_count": 606,
   "metadata": {},
   "outputs": [
    {
     "name": "stdout",
     "output_type": "stream",
     "text": [
      "3618\n",
      "34 34\n"
     ]
    },
    {
     "data": {
      "text/plain": [
       "<AxesSubplot:>"
      ]
     },
     "metadata": {},
     "output_type": "display_data"
    },
    {
     "data": {
      "text/plain": [
       "<AxesSubplot:>"
      ]
     },
     "metadata": {},
     "output_type": "display_data"
    },
    {
     "data": {
      "image/png": "[encoded data removed]",
      "text/plain": [
       "<Figure size 1080x576 with 1 Axes>"
      ]
     },
     "metadata": {
      "needs_background": "light"
     },
     "output_type": "display_data"
    }
   ],
   "source": [
    "def smoothe_payoffs(num:int)->None:\n",
    "    my_list = cohort_map['2000'][num]['TransactionBalanceAmt'].to_list()\n",
    "    print(num)\n",
    "    original = pd.Series(my_list)\n",
    "    remove_rows = []\n",
    "\n",
    "    condition = True\n",
    "\n",
    "    p1 = 0\n",
    "    p2 = len(my_list)-1\n",
    "    # print(p1,p2)\n",
    "    while condition:\n",
    "        try:\n",
    "            p1+=1\n",
    "            p2-=1\n",
    "            if abs(p1-p2)<=1:\n",
    "                print(p1,p2)\n",
    "                condition = False\n",
    "            # If the current value is increasing going forward in time       \n",
    "            if my_list[p1] >= my_list[p1-1]:\n",
    "                remove_rows.append(p1-1)\n",
    "            # If the previous value was less going backward in time\n",
    "            if my_list[p2] <= my_list[p2+1]:\n",
    "                remove_rows.append(p2+2)\n",
    "                \n",
    "        except IndexError:\n",
    "            print(p1)\n",
    "            break\n",
    "\n",
    "\n",
    "\n",
    "    for i in sorted(remove_rows, reverse=True):\n",
    "        del my_list[i]\n",
    "        \n",
    "\n",
    "    display(pd.Series(my_list).plot(figsize=(15,8), grid=True))\n",
    "    display(original.plot(grid=True))\n",
    "\n",
    "    return None\n",
    "import random\n",
    "smoothe_payoffs(random.choice(list(range(0,9000))))"
   ]
  },
  {
   "attachments": {},
   "cell_type": "markdown",
   "metadata": {},
   "source": [
    "#### second shot"
   ]
  },
  {
   "cell_type": "code",
   "execution_count": 594,
   "metadata": {},
   "outputs": [
    {
     "name": "stdout",
     "output_type": "stream",
     "text": [
      "62 61\n",
      "[96, 100]\n",
      "[450000.0, 447713.0, 446275.0, 445109.0, 443912.0, 441947.0, 440215.0, 438304.0, 436629.0, 434406.0, 431999.0, 429573.0, 427331.0, 424606.0, 422060.0, 419606.0, 416396.0, 412836.0, 409750.0, 406319.0, 403273.0, 401648.0, 398664.0, 396831.0, 394353.0, 391782.0, 390998.0, 388350.0, 383353.0, 382636.0, 378039.0, 377203.0, 375151.0, 373089.0, 371348.0, 369199.0, 367106.0, 361283.0, 359114.0, 357173.0, 354956.0, 352894.0, 351137.0, 349508.0, 347124.0, 346096.0, 344080.0, 342173.0, 340539.0, 338463.0, 336911.0, 334876.0, 332463.0, 329740.0, 326746.0, 324893.0, 322394.0, 320236.0, 318089.0, 315694.0, 313520.0, 310709.0, 308884.0, 305777.0, 304179.0, 301667.0, 298954.0, 296484.0, 294515.0, 289315.0, 288952.0, 286305.0, 283719.0, 281193.0, 278312.0, 275817.0, 273054.0, 269911.0, 267440.0, 264643.0, 261548.0, 258514.0, 256455.0, 253080.0, 248955.0, 246425.0, 242518.0, 239427.0, 235113.0, 232033.0, 227834.0, 224085.0, 220562.0, 218279.0, 215045.0, 161283.0, 199688.0, 196346.0, 192897.0, 192897.0, 181187.0, 177186.0, 173307.0, 169099.0, 165200.0, 160772.0, 156684.0, 152400.0, 148144.0, 143598.0, 138963.0, 134817.0, 130539.0, 125909.0, 121604.0, 117236.0, 112882.0, 109314.0, 96255.6, 92277.3, 87698.9, 0.0]\n"
     ]
    },
    {
     "data": {
      "text/plain": [
       "<AxesSubplot:>"
      ]
     },
     "metadata": {},
     "output_type": "display_data"
    },
    {
     "data": {
      "image/png": "[encoded data removed]",
      "text/plain": [
       "<Figure size 1080x576 with 1 Axes>"
      ]
     },
     "metadata": {
      "needs_background": "light"
     },
     "output_type": "display_data"
    }
   ],
   "source": [
    "my_list = cohort_map['2000'][5657]['TransactionBalanceAmt'].to_list()\n",
    "original = pd.Series(my_list)\n",
    "remove_rows = []\n",
    "\n",
    "condition = True\n",
    "p1 = 0\n",
    "p2 = len(my_list)-1\n",
    "# print(p1,p2)\n",
    "while condition:\n",
    "    try:\n",
    "        p1+=2\n",
    "        p2-=2\n",
    "        if abs(p1-p2)<=2:\n",
    "            print(p1,p2)\n",
    "            condition = False\n",
    "        # If the current value is increasing going forward in time       \n",
    "        if not my_list[p1-2] >= my_list[p1-1] >= my_list[p1]:\n",
    "            remove_rows.append(p1-1)\n",
    "        # If the previous value was less going backward in time\n",
    "        if not my_list[p2+2] <= my_list[p2+1] <= my_list[p2]:\n",
    "            remove_rows.append(p2+1)\n",
    "            \n",
    "    except IndexError:\n",
    "        print(p1, p2)\n",
    "        break\n",
    "print(sorted(remove_rows))\n",
    "for i in sorted(remove_rows, reverse=True):\n",
    "    del my_list[i]\n",
    "    \n",
    "print(my_list)\n",
    "display(pd.Series(my_list).plot(figsize=(15,8), grid=True))\n",
    "# display(original.plot(grid=True))\n"
   ]
  },
  {
   "cell_type": "code",
   "execution_count": null,
   "metadata": {},
   "outputs": [],
   "source": []
  },
  {
   "cell_type": "code",
   "execution_count": 511,
   "metadata": {},
   "outputs": [
    {
     "data": {
      "text/html": [
       "<div>\n",
       "<style scoped>\n",
       "    .dataframe tbody tr th:only-of-type {\n",
       "        vertical-align: middle;\n",
       "    }\n",
       "\n",
       "    .dataframe tbody tr th {\n",
       "        vertical-align: top;\n",
       "    }\n",
       "\n",
       "    .dataframe thead th {\n",
       "        text-align: right;\n",
       "    }\n",
       "</style>\n",
       "<table border=\"1\" class=\"dataframe\">\n",
       "  <thead>\n",
       "    <tr style=\"text-align: right;\">\n",
       "      <th></th>\n",
       "      <th>principal</th>\n",
       "      <th>delta</th>\n",
       "    </tr>\n",
       "  </thead>\n",
       "  <tbody>\n",
       "    <tr>\n",
       "      <th>108</th>\n",
       "      <td>183469.00</td>\n",
       "      <td>45046.00</td>\n",
       "    </tr>\n",
       "  </tbody>\n",
       "</table>\n",
       "</div>"
      ],
      "text/plain": [
       "     principal    delta\n",
       "108  183469.00 45046.00"
      ]
     },
     "execution_count": 511,
     "metadata": {},
     "output_type": "execute_result"
    }
   ],
   "source": [
    "sample = pd.DataFrame(my_list, columns=['principal'])\n",
    "sample['delta'] = sample.principal.diff()\n",
    "sample[sample.delta > 0]"
   ]
  },
  {
   "cell_type": "code",
   "execution_count": 478,
   "metadata": {},
   "outputs": [],
   "source": [
    "for i in sorted(remove_rows, reverse=True):\n",
    "    del my_list[i]"
   ]
  },
  {
   "cell_type": "code",
   "execution_count": 479,
   "metadata": {},
   "outputs": [
    {
     "data": {
      "text/plain": [
       "<AxesSubplot:>"
      ]
     },
     "metadata": {},
     "output_type": "display_data"
    },
    {
     "data": {
      "text/plain": [
       "<AxesSubplot:>"
      ]
     },
     "metadata": {},
     "output_type": "display_data"
    },
    {
     "data": {
      "image/png": "[encoded data removed]",
      "text/plain": [
       "<Figure size 432x288 with 1 Axes>"
      ]
     },
     "metadata": {
      "needs_background": "light"
     },
     "output_type": "display_data"
    }
   ],
   "source": [
    "display(pd.Series(my_list).plot())\n",
    "display(original.plot())"
   ]
  },
  {
   "cell_type": "code",
   "execution_count": 468,
   "metadata": {},
   "outputs": [
    {
     "data": {
      "text/plain": [
       "[]"
      ]
     },
     "execution_count": 468,
     "metadata": {},
     "output_type": "execute_result"
    }
   ],
   "source": [
    "remove_rows"
   ]
  },
  {
   "cell_type": "code",
   "execution_count": null,
   "metadata": {},
   "outputs": [],
   "source": [
    "print('looping through loans...')\n",
    "\n",
    "sample_dict = {}\n",
    "for df_x in tqdm(df_list):\n",
    "    if df_x.any().sum()>0:\n",
    "        df_x = df_x.drop_duplicates().reset_index().drop(columns='index')"
   ]
  },
  {
   "cell_type": "code",
   "execution_count": null,
   "metadata": {},
   "outputs": [],
   "source": [
    "x = []\n",
    "ers = []\n",
    "for i in l:\n",
    "    initial = 0\n",
    "    try:\n",
    "        for s in loans[i].all_pmts:\n",
    "            if s[3] > initial:\n",
    "                initial = s[3]\n",
    "        if initial != 0:\n",
    "            x.append([loans[i].origination_dt, initial])\n",
    "    except IndexError:\n",
    "      ers.append(i)\n",
    "      \n"
   ]
  },
  {
   "cell_type": "code",
   "execution_count": 158,
   "metadata": {},
   "outputs": [],
   "source": [
    "df_notional = pd.DataFrame(data=x, columns=['LoanFundedDt', 'Balance'])\n",
    "df_notional['LoanFundedDt']= pd.to_datetime(df_notional['LoanFundedDt']) \n",
    "df_notional = df_notional.set_index('LoanFundedDt')\n",
    "df_notional.groupby([(df_notional.index.year), (df_notional.index.month)]).sum().to_csv('notional.csv')"
   ]
  },
  {
   "cell_type": "code",
   "execution_count": 154,
   "metadata": {},
   "outputs": [
    {
     "data": {
      "text/html": [
       "<div>\n",
       "<style scoped>\n",
       "    .dataframe tbody tr th:only-of-type {\n",
       "        vertical-align: middle;\n",
       "    }\n",
       "\n",
       "    .dataframe tbody tr th {\n",
       "        vertical-align: top;\n",
       "    }\n",
       "\n",
       "    .dataframe thead th {\n",
       "        text-align: right;\n",
       "    }\n",
       "</style>\n",
       "<table border=\"1\" class=\"dataframe\">\n",
       "  <thead>\n",
       "    <tr style=\"text-align: right;\">\n",
       "      <th></th>\n",
       "      <th>LoanFundedDt</th>\n",
       "      <th>Balance</th>\n",
       "    </tr>\n",
       "  </thead>\n",
       "  <tbody>\n",
       "    <tr>\n",
       "      <th>0</th>\n",
       "      <td>2020-06-26</td>\n",
       "      <td>625000.0</td>\n",
       "    </tr>\n",
       "    <tr>\n",
       "      <th>1</th>\n",
       "      <td>2020-06-26</td>\n",
       "      <td>62900.0</td>\n",
       "    </tr>\n",
       "    <tr>\n",
       "      <th>2</th>\n",
       "      <td>2020-06-26</td>\n",
       "      <td>38400.0</td>\n",
       "    </tr>\n",
       "    <tr>\n",
       "      <th>3</th>\n",
       "      <td>2020-06-15</td>\n",
       "      <td>27000.0</td>\n",
       "    </tr>\n",
       "    <tr>\n",
       "      <th>4</th>\n",
       "      <td>2020-06-15</td>\n",
       "      <td>225000.0</td>\n",
       "    </tr>\n",
       "    <tr>\n",
       "      <th>...</th>\n",
       "      <td>...</td>\n",
       "      <td>...</td>\n",
       "    </tr>\n",
       "    <tr>\n",
       "      <th>98513</th>\n",
       "      <td>2004-12-10</td>\n",
       "      <td>50000.0</td>\n",
       "    </tr>\n",
       "    <tr>\n",
       "      <th>98514</th>\n",
       "      <td>2004-12-10</td>\n",
       "      <td>105600.0</td>\n",
       "    </tr>\n",
       "    <tr>\n",
       "      <th>98515</th>\n",
       "      <td>2004-12-10</td>\n",
       "      <td>10000.0</td>\n",
       "    </tr>\n",
       "    <tr>\n",
       "      <th>98516</th>\n",
       "      <td>2004-12-10</td>\n",
       "      <td>150000.0</td>\n",
       "    </tr>\n",
       "    <tr>\n",
       "      <th>98517</th>\n",
       "      <td>2004-12-10</td>\n",
       "      <td>50000.0</td>\n",
       "    </tr>\n",
       "  </tbody>\n",
       "</table>\n",
       "<p>98518 rows × 2 columns</p>\n",
       "</div>"
      ],
      "text/plain": [
       "      LoanFundedDt   Balance\n",
       "0       2020-06-26  625000.0\n",
       "1       2020-06-26   62900.0\n",
       "2       2020-06-26   38400.0\n",
       "3       2020-06-15   27000.0\n",
       "4       2020-06-15  225000.0\n",
       "...            ...       ...\n",
       "98513   2004-12-10   50000.0\n",
       "98514   2004-12-10  105600.0\n",
       "98515   2004-12-10   10000.0\n",
       "98516   2004-12-10  150000.0\n",
       "98517   2004-12-10   50000.0\n",
       "\n",
       "[98518 rows x 2 columns]"
      ]
     },
     "execution_count": 154,
     "metadata": {},
     "output_type": "execute_result"
    }
   ],
   "source": [
    "df_notional"
   ]
  },
  {
   "cell_type": "code",
   "execution_count": 242,
   "metadata": {},
   "outputs": [
    {
     "name": "stderr",
     "output_type": "stream",
     "text": [
      "100%|██████████| 626914/626914 [1:08:43<00:00, 152.02it/s] \n"
     ]
    }
   ],
   "source": [
    "prepayment_data = []\n",
    "\n",
    "\n",
    "errors = []\n",
    "l = list(loans.keys())\n",
    "for i in tqdm(l):\n",
    "    initial = 0\n",
    "    try:\n",
    "        for s in loans[i].all_pmts:\n",
    "            if s[3] > initial:\n",
    "                initial = s[3]\n",
    "        if initial != 0:\n",
    "            notional = initial\n",
    "    except IndexError:\n",
    "      errors.append(i)\n",
    "      pass \n",
    "  \n",
    "    try:\n",
    "        hist = loans[i].all_pmts\n",
    "        \n",
    "        # if hist_6031[ hist_6031[:, 2] == hist_6031[:, 3] ].any(): \n",
    "        #     notional1 = (hist_6031[ hist_6031[:, 2] == hist_6031[:, 3] ][0][3])\n",
    "        # else: notional1= 0\n",
    "        \n",
    "        # if hist_1510[ hist_1510[:, 2] == hist_1510[:, 3] ].any():\n",
    "        #     notional2 = (hist_1510[ hist_1510[:, 2] == hist_1510[:, 3] ][0][3])\n",
    "        # else: notional2 = 0\n",
    "        # notional = max(notional1, notional2)\n",
    "        \n",
    "        hist = hist[ hist[:, 2] < 0 ]\n",
    "        hist_1510 = hist[ hist[:, 1]== '1510', :]\n",
    "        hist_6031 = hist[ hist[:, 1]== '6031', :]\n",
    "        \n",
    "        if hist_1510[ hist_1510[:, 3] <= 1001].any():\n",
    "\n",
    "            if notional >= 10000:\n",
    "                hist = hist_1510[ hist_1510[:, 3] <= .1*notional][0]\n",
    "                hist = np.insert(hist, 0, loans[i].origination_dt)\n",
    "                hist = np.insert(hist,0,i)\n",
    "                prepayment_data.append(hist)\n",
    "            else: \n",
    "                hist = hist_1510[ hist_1510[:, 3] <= 1001][0]\n",
    "                hist = np.insert(hist, 0, loans[i].origination_dt)\n",
    "                hist = np.insert(hist,0,i)\n",
    "                prepayment_data.append(hist)\n",
    "            \n",
    "        elif hist_6031[ hist_6031[:, 3] <= 1001].any():\n",
    "\n",
    "            if notional >= 10000:\n",
    "                hist = hist_6031[ hist_6031[:, 3] <= .1*notional][0]\n",
    "                hist = np.insert(hist, 0, loans[i].origination_dt)\n",
    "                hist = np.insert(hist,0,i)\n",
    "                prepayment_data.append(hist)\n",
    "            else: \n",
    "                hist = hist_6031[ hist_6031[:, 3] <= 1001][0]\n",
    "                hist = np.insert(hist, 0, loans[i].origination_dt)\n",
    "                hist = np.insert(hist,0,i)\n",
    "                prepayment_data.append(hist)\n",
    "                \n",
    "    except IndexError:\n",
    "        errors.append(i)\n",
    "        \n"
   ]
  },
  {
   "cell_type": "code",
   "execution_count": 191,
   "metadata": {},
   "outputs": [
    {
     "data": {
      "text/plain": [
       "2020"
      ]
     },
     "execution_count": 191,
     "metadata": {},
     "output_type": "execute_result"
    }
   ],
   "source": [
    "prepayment_data[0][1].year"
   ]
  },
  {
   "cell_type": "code",
   "execution_count": 243,
   "metadata": {},
   "outputs": [],
   "source": [
    "df = pd.DataFrame(data= prepayment_data, columns=['ObservationNmb', 'LoanFundedDt', 'date', 'code', 'amount', 'remaining balance'])\n",
    "df['date'] = pd.to_datetime(df['date'])\n",
    "df['LoanFundedDt'] = pd.to_datetime(df['LoanFundedDt'])\n",
    "df = df.set_index('date')\n",
    "df = df[df.index.year != 1960].sort_index()"
   ]
  },
  {
   "cell_type": "code",
   "execution_count": 245,
   "metadata": {},
   "outputs": [],
   "source": [
    "df1 = df.reset_index()\n",
    "df1['amount']= (df1['amount']*-1)\n",
    "df1['LoanFundedYr'] = df1['LoanFundedDt'].dt.year\n",
    "df1['LoanFundedMnth'] = df1['LoanFundedDt'].dt.month\n",
    "df1['EffectiveDtYr'] = df1['date'].dt.year\n",
    "df1['EffectiveDtMnth'] = df1['date'].dt.month\n",
    "\n",
    "df1 = df1.set_index(['LoanFundedYr', 'EffectiveDtYr', 'EffectiveDtMnth' ])\n",
    "df1 = df1[['amount']]\n",
    "\n",
    "gp_count = df1.groupby(level=['LoanFundedYr', 'EffectiveDtYr', 'EffectiveDtMnth' ]).count()\n",
    "gp_count = gp_count.reset_index()\n",
    "gp_count[gp_count['LoanFundedYr']==2000].to_csv('count_all.csv')\n",
    "\n",
    "gp_amount = df1.groupby(level=['LoanFundedYr', 'EffectiveDtYr', 'EffectiveDtMnth' ]).sum()\n",
    "gp_amount = gp_amount.reset_index()\n",
    "gp_amount[gp_amount['LoanFundedYr']==2000].to_csv('total_all.csv')\n"
   ]
  },
  {
   "cell_type": "code",
   "execution_count": 193,
   "metadata": {},
   "outputs": [
    {
     "data": {
      "text/html": [
       "<div>\n",
       "<style scoped>\n",
       "    .dataframe tbody tr th:only-of-type {\n",
       "        vertical-align: middle;\n",
       "    }\n",
       "\n",
       "    .dataframe tbody tr th {\n",
       "        vertical-align: top;\n",
       "    }\n",
       "\n",
       "    .dataframe thead th {\n",
       "        text-align: right;\n",
       "    }\n",
       "</style>\n",
       "<table border=\"1\" class=\"dataframe\">\n",
       "  <thead>\n",
       "    <tr style=\"text-align: right;\">\n",
       "      <th></th>\n",
       "      <th>ObservationNmb</th>\n",
       "      <th>code</th>\n",
       "      <th>amount</th>\n",
       "      <th>remaining balance</th>\n",
       "    </tr>\n",
       "    <tr>\n",
       "      <th>LoanFundedDt</th>\n",
       "      <th></th>\n",
       "      <th></th>\n",
       "      <th></th>\n",
       "      <th></th>\n",
       "    </tr>\n",
       "  </thead>\n",
       "  <tbody>\n",
       "    <tr>\n",
       "      <th>2000-01-07</th>\n",
       "      <td>1481663</td>\n",
       "      <td>6031</td>\n",
       "      <td>-1242230.00</td>\n",
       "      <td>-1242230.00</td>\n",
       "    </tr>\n",
       "    <tr>\n",
       "      <th>2000-02-03</th>\n",
       "      <td>1484715</td>\n",
       "      <td>6031</td>\n",
       "      <td>-77812.50</td>\n",
       "      <td>-77812.50</td>\n",
       "    </tr>\n",
       "    <tr>\n",
       "      <th>2000-01-07</th>\n",
       "      <td>1481664</td>\n",
       "      <td>6031</td>\n",
       "      <td>-119250.00</td>\n",
       "      <td>12000.00</td>\n",
       "    </tr>\n",
       "    <tr>\n",
       "      <th>2000-01-19</th>\n",
       "      <td>1482782</td>\n",
       "      <td>6031</td>\n",
       "      <td>-62245.20</td>\n",
       "      <td>-62245.20</td>\n",
       "    </tr>\n",
       "    <tr>\n",
       "      <th>2000-01-10</th>\n",
       "      <td>1481723</td>\n",
       "      <td>6031</td>\n",
       "      <td>-1400000.00</td>\n",
       "      <td>-1400000.00</td>\n",
       "    </tr>\n",
       "    <tr>\n",
       "      <th>...</th>\n",
       "      <td>...</td>\n",
       "      <td>...</td>\n",
       "      <td>...</td>\n",
       "      <td>...</td>\n",
       "    </tr>\n",
       "    <tr>\n",
       "      <th>2021-08-02</th>\n",
       "      <td>17973126</td>\n",
       "      <td>6031</td>\n",
       "      <td>-1696.00</td>\n",
       "      <td>0.00</td>\n",
       "    </tr>\n",
       "    <tr>\n",
       "      <th>2021-03-15</th>\n",
       "      <td>13477605</td>\n",
       "      <td>6031</td>\n",
       "      <td>-2601400.00</td>\n",
       "      <td>0.00</td>\n",
       "    </tr>\n",
       "    <tr>\n",
       "      <th>2020-10-27</th>\n",
       "      <td>10697518</td>\n",
       "      <td>6031</td>\n",
       "      <td>-383237.00</td>\n",
       "      <td>0.00</td>\n",
       "    </tr>\n",
       "    <tr>\n",
       "      <th>2021-03-24</th>\n",
       "      <td>14122441</td>\n",
       "      <td>6031</td>\n",
       "      <td>-595325.00</td>\n",
       "      <td>0.00</td>\n",
       "    </tr>\n",
       "    <tr>\n",
       "      <th>2021-07-27</th>\n",
       "      <td>17968984</td>\n",
       "      <td>6031</td>\n",
       "      <td>-100000.00</td>\n",
       "      <td>0.00</td>\n",
       "    </tr>\n",
       "  </tbody>\n",
       "</table>\n",
       "<p>42085 rows × 4 columns</p>\n",
       "</div>"
      ],
      "text/plain": [
       "             ObservationNmb  code      amount  remaining balance\n",
       "LoanFundedDt                                                    \n",
       "2000-01-07          1481663  6031 -1242230.00        -1242230.00\n",
       "2000-02-03          1484715  6031   -77812.50          -77812.50\n",
       "2000-01-07          1481664  6031  -119250.00           12000.00\n",
       "2000-01-19          1482782  6031   -62245.20          -62245.20\n",
       "2000-01-10          1481723  6031 -1400000.00        -1400000.00\n",
       "...                     ...   ...         ...                ...\n",
       "2021-08-02         17973126  6031    -1696.00               0.00\n",
       "2021-03-15         13477605  6031 -2601400.00               0.00\n",
       "2020-10-27         10697518  6031  -383237.00               0.00\n",
       "2021-03-24         14122441  6031  -595325.00               0.00\n",
       "2021-07-27         17968984  6031  -100000.00               0.00\n",
       "\n",
       "[42085 rows x 4 columns]"
      ]
     },
     "execution_count": 193,
     "metadata": {},
     "output_type": "execute_result"
    }
   ],
   "source": [
    "df1"
   ]
  },
  {
   "cell_type": "code",
   "execution_count": 186,
   "metadata": {},
   "outputs": [
    {
     "data": {
      "text/plain": [
       "<AxesSubplot:xlabel='date,date'>"
      ]
     },
     "execution_count": 186,
     "metadata": {},
     "output_type": "execute_result"
    },
    {
     "data": {
      "image/png": "[encoded data removed]",
      "text/plain": [
       "<Figure size 432x288 with 1 Axes>"
      ]
     },
     "metadata": {
      "needs_background": "light"
     },
     "output_type": "display_data"
    }
   ],
   "source": [
    "df1 = df[['amount']]\n",
    "df1['amount'] = df1['amount']*-1\n",
    "df1.groupby([(df1.index.year), (df1.index.month)]).count().plot(kind='bar')"
   ]
  },
  {
   "cell_type": "code",
   "execution_count": 180,
   "metadata": {},
   "outputs": [],
   "source": []
  },
  {
   "cell_type": "code",
   "execution_count": 46,
   "metadata": {},
   "outputs": [],
   "source": [
    "with engine.connect() as con:\n",
    "    con.execute('SET GLOBAL innodb_buffer_pool_size=2147483648;')\n",
    "    query = \"\"\"SELECT * FROM master_fin WHERE ObservationNmb = \"10000625\" limit 10;\"\"\"\n",
    "    rows = con.execute(query)\n",
    "    rvs = list(rows)"
   ]
  },
  {
   "cell_type": "code",
   "execution_count": 47,
   "metadata": {},
   "outputs": [
    {
     "data": {
      "text/plain": [
       "[('10000625', datetime.date(2020, 7, 3), datetime.date(2020, 7, 6), datetime.date(2020, 7, 2), 368, 'P102', '73X4149', '1010', 9375.0, 0.0),\n",
       " ('10000625', datetime.date(2020, 8, 6), datetime.date(2020, 8, 6), datetime.date(2020, 7, 31), 298, 'Q996', '7601154', '1010', -1085.66, 0.0),\n",
       " ('10000625', datetime.date(2020, 8, 6), datetime.date(2020, 8, 6), datetime.date(2020, 7, 31), 398, 'P995', '73X4149', '1010', 1085.66, 0.0),\n",
       " ('10000625', datetime.date(2020, 8, 24), datetime.date(2020, 8, 24), datetime.date(2020, 8, 20), 360, 'P616', '73X4149', '1010', 67.2, 0.0),\n",
       " ('10000625', datetime.date(2020, 9, 3), datetime.date(2020, 9, 3), datetime.date(2020, 8, 31), 298, 'Q996', '7601154', '1010', -134.83, 0.0),\n",
       " ('10000625', datetime.date(2020, 9, 3), datetime.date(2020, 9, 3), datetime.date(2020, 8, 31), 398, 'P995', '73X4149', '1010', 134.83, 0.0),\n",
       " ('10000625', datetime.date(2020, 9, 22), datetime.date(2020, 9, 22), datetime.date(2020, 9, 18), 360, 'P616', '73X4149', '1010', 81.29, 0.0),\n",
       " ('10000625', datetime.date(2020, 10, 6), datetime.date(2020, 10, 6), datetime.date(2020, 9, 30), 298, 'Q996', '7601154', '1010', -208.5, 0.0),\n",
       " ('10000625', datetime.date(2020, 10, 6), datetime.date(2020, 10, 6), datetime.date(2020, 9, 30), 398, 'P995', '73X4149', '1010', 208.5, 0.0),\n",
       " ('10000625', datetime.date(2020, 10, 22), datetime.date(2020, 10, 22), datetime.date(2020, 10, 20), 360, 'P616', '73X4149', '1010', 89.36, 0.0)]"
      ]
     },
     "execution_count": 47,
     "metadata": {},
     "output_type": "execute_result"
    }
   ],
   "source": [
    "rvs"
   ]
  },
  {
   "cell_type": "code",
   "execution_count": 62,
   "metadata": {},
   "outputs": [
    {
     "name": "stdout",
     "output_type": "stream",
     "text": [
      "10000625\n"
     ]
    }
   ],
   "source": [
    "match = re.search(r\"(\\(\\')(.+)\\'\",samp)\n",
    "\n",
    "if match: \n",
    "    print (match.group(2))\n",
    "else:\n",
    "    print('fail')"
   ]
  },
  {
   "cell_type": "code",
   "execution_count": 1,
   "metadata": {},
   "outputs": [],
   "source": [
    "from pathlib import Path \n",
    "import re\n",
    "import csv\n",
    "\n",
    "input_file= Path(\"C:/Users/Laramie/Desktop/data_REVL/fin_all.txt\")\n",
    "\n",
    "# input_file = large text file\n",
    "# outfile is where we want to put just the id'set \n",
    "with open(input_file) as f, open('id_nums.csv', 'wb') as outfile:\n",
    "    # initialize stuff\n",
    "    writer = csv.writer(outfile, delimiter=',')\n",
    "    id_tbl = {}\n",
    "    # read each line into memory\n",
    "    for line in f.read():\n",
    "        # match the first grouping of numbers in the line --> this is always the \"ObservationNmb\"\n",
    "        match = re.match(r'(^/d+)' , line )\n",
    "        if match:\n",
    "            id = match.group(1)\n",
    "            writer.writerow(id)\n",
    "            \n",
    "    \n"
   ]
  },
  {
   "cell_type": "code",
   "execution_count": 15,
   "metadata": {},
   "outputs": [
    {
     "name": "stdout",
     "output_type": "stream",
     "text": [
      "this is the sample line: 471382~10/04/1999~10/04/1999~08/31/1999~455~V904~73X4149~6031~-332.53~34719.78\n",
      "\n",
      "471382\n"
     ]
    }
   ],
   "source": [
    "with open(input_file) as f:\n",
    "    for line in f:\n",
    "        print(f\"this is the sample line: {line}\")\n",
    "        match = re.match(r'(^\\d+)' , line )\n",
    "        if match:\n",
    "            print(match.group(1))\n",
    "        break"
   ]
  },
  {
   "cell_type": "code",
   "execution_count": null,
   "metadata": {},
   "outputs": [],
   "source": []
  }
 ],
 "metadata": {
  "kernelspec": {
   "display_name": "Python 3.7.11 ('base')",
   "language": "python",
   "name": "python3"
  },
  "language_info": {
   "codemirror_mode": {
    "name": "ipython",
    "version": 3
   },
   "file_extension": ".py",
   "mimetype": "text/x-python",
   "name": "python",
   "nbconvert_exporter": "python",
   "pygments_lexer": "ipython3",
   "version": "3.7.11"
  },
  "orig_nbformat": 4,
  "vscode": {
   "interpreter": {
    "hash": "83e1771ce1f9df5de1670795847cb857ef6bf5f13021e3cce81b976772d7099f"
   }
  }
 },
 "nbformat": 4,
 "nbformat_minor": 2
}
